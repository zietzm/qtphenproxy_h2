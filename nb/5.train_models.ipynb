{
 "cells": [
  {
   "cell_type": "code",
   "execution_count": 1,
   "id": "00922690",
   "metadata": {},
   "outputs": [],
   "source": [
    "import numpy as np\n",
    "import pandas as pd\n",
    "import torch\n",
    "import tqdm\n",
    "\n",
    "from plotnine import *"
   ]
  },
  {
   "cell_type": "code",
   "execution_count": 2,
   "id": "a81c4ec7",
   "metadata": {},
   "outputs": [],
   "source": [
    "import sys\n",
    "\n",
    "sys.path.append('../qtphenproxy_h2/')\n",
    "\n",
    "import model"
   ]
  },
  {
   "cell_type": "code",
   "execution_count": 3,
   "id": "de062e62",
   "metadata": {},
   "outputs": [],
   "source": [
    "target_to_icd10 = {'stroke': 'I63', 'MI': 'I21'}"
   ]
  },
  {
   "cell_type": "code",
   "execution_count": 4,
   "id": "72982805",
   "metadata": {},
   "outputs": [
    {
     "data": {
      "text/html": [
       "<div>\n",
       "<style scoped>\n",
       "    .dataframe tbody tr th:only-of-type {\n",
       "        vertical-align: middle;\n",
       "    }\n",
       "\n",
       "    .dataframe tbody tr th {\n",
       "        vertical-align: top;\n",
       "    }\n",
       "\n",
       "    .dataframe thead th {\n",
       "        text-align: right;\n",
       "    }\n",
       "</style>\n",
       "<table border=\"1\" class=\"dataframe\">\n",
       "  <thead>\n",
       "    <tr style=\"text-align: right;\">\n",
       "      <th></th>\n",
       "      <th>code</th>\n",
       "      <th>n_cases</th>\n",
       "      <th>n_controls</th>\n",
       "      <th>h2_liability</th>\n",
       "      <th>h2_liability_se</th>\n",
       "      <th>h2_z</th>\n",
       "      <th>h2_p</th>\n",
       "    </tr>\n",
       "  </thead>\n",
       "  <tbody>\n",
       "    <tr>\n",
       "      <th>0</th>\n",
       "      <td>A09</td>\n",
       "      <td>2161.0</td>\n",
       "      <td>359033.0</td>\n",
       "      <td>-0.029687</td>\n",
       "      <td>0.043285</td>\n",
       "      <td>-0.685859</td>\n",
       "      <td>0.753599</td>\n",
       "    </tr>\n",
       "    <tr>\n",
       "      <th>1</th>\n",
       "      <td>C18</td>\n",
       "      <td>2226.0</td>\n",
       "      <td>358968.0</td>\n",
       "      <td>0.120329</td>\n",
       "      <td>0.042461</td>\n",
       "      <td>2.833887</td>\n",
       "      <td>0.002299</td>\n",
       "    </tr>\n",
       "  </tbody>\n",
       "</table>\n",
       "</div>"
      ],
      "text/plain": [
       "  code  n_cases  n_controls  h2_liability  h2_liability_se      h2_z      h2_p\n",
       "0  A09   2161.0    359033.0     -0.029687         0.043285 -0.685859  0.753599\n",
       "1  C18   2226.0    358968.0      0.120329         0.042461  2.833887  0.002299"
      ]
     },
     "execution_count": 4,
     "metadata": {},
     "output_type": "execute_result"
    }
   ],
   "source": [
    "heritability_df = pd.read_csv('../data/phenotypes_meta/heritability.tsv', sep='\\t')\n",
    "\n",
    "heritability_df.head(2)"
   ]
  },
  {
   "cell_type": "code",
   "execution_count": 5,
   "id": "e93c2960",
   "metadata": {},
   "outputs": [
    {
     "data": {
      "text/html": [
       "<div>\n",
       "<style scoped>\n",
       "    .dataframe tbody tr th:only-of-type {\n",
       "        vertical-align: middle;\n",
       "    }\n",
       "\n",
       "    .dataframe tbody tr th {\n",
       "        vertical-align: top;\n",
       "    }\n",
       "\n",
       "    .dataframe thead th {\n",
       "        text-align: right;\n",
       "    }\n",
       "</style>\n",
       "<table border=\"1\" class=\"dataframe\">\n",
       "  <thead>\n",
       "    <tr style=\"text-align: right;\">\n",
       "      <th></th>\n",
       "      <th>A09</th>\n",
       "      <th>C18</th>\n",
       "      <th>C34</th>\n",
       "    </tr>\n",
       "  </thead>\n",
       "  <tbody>\n",
       "    <tr>\n",
       "      <th>A09</th>\n",
       "      <td>-0.029687</td>\n",
       "      <td>-1.013000</td>\n",
       "      <td>-0.070820</td>\n",
       "    </tr>\n",
       "    <tr>\n",
       "      <th>C18</th>\n",
       "      <td>-1.013000</td>\n",
       "      <td>0.120329</td>\n",
       "      <td>0.210400</td>\n",
       "    </tr>\n",
       "    <tr>\n",
       "      <th>C34</th>\n",
       "      <td>-0.070820</td>\n",
       "      <td>0.210400</td>\n",
       "      <td>0.116966</td>\n",
       "    </tr>\n",
       "  </tbody>\n",
       "</table>\n",
       "</div>"
      ],
      "text/plain": [
       "          A09       C18       C34\n",
       "A09 -0.029687 -1.013000 -0.070820\n",
       "C18 -1.013000  0.120329  0.210400\n",
       "C34 -0.070820  0.210400  0.116966"
      ]
     },
     "execution_count": 5,
     "metadata": {},
     "output_type": "execute_result"
    }
   ],
   "source": [
    "genetic_covariance_matrix_df = pd.read_csv('../data/qtphenproxy_data/genetic_covariance_matrix.tsv',\n",
    "                                           sep='\\t', index_col=0)\n",
    "\n",
    "genetic_covariance_matrix_df.iloc[:3, :3]"
   ]
  },
  {
   "cell_type": "code",
   "execution_count": 6,
   "id": "f8b15854",
   "metadata": {},
   "outputs": [
    {
     "data": {
      "text/html": [
       "<div>\n",
       "<style scoped>\n",
       "    .dataframe tbody tr th:only-of-type {\n",
       "        vertical-align: middle;\n",
       "    }\n",
       "\n",
       "    .dataframe tbody tr th {\n",
       "        vertical-align: top;\n",
       "    }\n",
       "\n",
       "    .dataframe thead th {\n",
       "        text-align: right;\n",
       "    }\n",
       "</style>\n",
       "<table border=\"1\" class=\"dataframe\">\n",
       "  <thead>\n",
       "    <tr style=\"text-align: right;\">\n",
       "      <th></th>\n",
       "      <th>A09</th>\n",
       "      <th>C18</th>\n",
       "      <th>C34</th>\n",
       "    </tr>\n",
       "  </thead>\n",
       "  <tbody>\n",
       "    <tr>\n",
       "      <th>A09</th>\n",
       "      <td>1.000000</td>\n",
       "      <td>0.022819</td>\n",
       "      <td>0.023801</td>\n",
       "    </tr>\n",
       "    <tr>\n",
       "      <th>C18</th>\n",
       "      <td>0.022819</td>\n",
       "      <td>1.000000</td>\n",
       "      <td>0.012019</td>\n",
       "    </tr>\n",
       "    <tr>\n",
       "      <th>C34</th>\n",
       "      <td>0.023801</td>\n",
       "      <td>0.012019</td>\n",
       "      <td>1.000000</td>\n",
       "    </tr>\n",
       "  </tbody>\n",
       "</table>\n",
       "</div>"
      ],
      "text/plain": [
       "          A09       C18       C34\n",
       "A09  1.000000  0.022819  0.023801\n",
       "C18  0.022819  1.000000  0.012019\n",
       "C34  0.023801  0.012019  1.000000"
      ]
     },
     "execution_count": 6,
     "metadata": {},
     "output_type": "execute_result"
    }
   ],
   "source": [
    "phenotypic_covariance_matrix_df = pd.read_csv('../data/qtphenproxy_data/phenotypic_covariance_matrix.tsv',\n",
    "                                              sep='\\t', index_col=0)\n",
    "\n",
    "phenotypic_covariance_matrix_df.iloc[:3, :3]"
   ]
  },
  {
   "cell_type": "code",
   "execution_count": 7,
   "id": "6bfd98cf",
   "metadata": {},
   "outputs": [
    {
     "data": {
      "text/html": [
       "<div>\n",
       "<style scoped>\n",
       "    .dataframe tbody tr th:only-of-type {\n",
       "        vertical-align: middle;\n",
       "    }\n",
       "\n",
       "    .dataframe tbody tr th {\n",
       "        vertical-align: top;\n",
       "    }\n",
       "\n",
       "    .dataframe thead th {\n",
       "        text-align: right;\n",
       "    }\n",
       "</style>\n",
       "<table border=\"1\" class=\"dataframe\">\n",
       "  <thead>\n",
       "    <tr style=\"text-align: right;\">\n",
       "      <th></th>\n",
       "      <th>A09</th>\n",
       "      <th>C18</th>\n",
       "      <th>C34</th>\n",
       "      <th>C43</th>\n",
       "      <th>C44</th>\n",
       "      <th>C50</th>\n",
       "      <th>C67</th>\n",
       "      <th>D12</th>\n",
       "      <th>D17</th>\n",
       "      <th>D22</th>\n",
       "      <th>...</th>\n",
       "      <th>Z01</th>\n",
       "      <th>Z03</th>\n",
       "      <th>Z08</th>\n",
       "      <th>Z09</th>\n",
       "      <th>Z12</th>\n",
       "      <th>Z42</th>\n",
       "      <th>Z43</th>\n",
       "      <th>Z45</th>\n",
       "      <th>Z47</th>\n",
       "      <th>Z53</th>\n",
       "    </tr>\n",
       "    <tr>\n",
       "      <th>IID</th>\n",
       "      <th></th>\n",
       "      <th></th>\n",
       "      <th></th>\n",
       "      <th></th>\n",
       "      <th></th>\n",
       "      <th></th>\n",
       "      <th></th>\n",
       "      <th></th>\n",
       "      <th></th>\n",
       "      <th></th>\n",
       "      <th></th>\n",
       "      <th></th>\n",
       "      <th></th>\n",
       "      <th></th>\n",
       "      <th></th>\n",
       "      <th></th>\n",
       "      <th></th>\n",
       "      <th></th>\n",
       "      <th></th>\n",
       "      <th></th>\n",
       "      <th></th>\n",
       "    </tr>\n",
       "  </thead>\n",
       "  <tbody>\n",
       "  </tbody>\n",
       "</table>\n",
       "<p>0 rows × 142 columns</p>\n",
       "</div>"
      ],
      "text/plain": [
       "Empty DataFrame\n",
       "Columns: [A09, C18, C34, C43, C44, C50, C67, D12, D17, D22, D23, D50, D64, G47, G56, H00, H02, H04, H25, H26, H33, H40, I20, I21, I25, I26, I47, I48, I63, I80, I83, I84, J18, J22, J32, J33, J34, J44, J45, K01, K02, K08, K13, K20, K21, K22, K25, K26, K29, K30, K31, K35, K40, K42, K43, K44, K51, K52, K56, K57, K59, K60, K62, K63, K80, K81, K85, L02, L03, L57, L72, L82, L90, L98, M06, M15, M16, M17, M19, M20, M23, M24, M25, M47, M48, M51, M54, M65, M67, M72, M75, M79, N13, N20, N23, N30, N32, N35, N39, N60, ...]\n",
       "Index: []\n",
       "\n",
       "[0 rows x 142 columns]"
      ]
     },
     "execution_count": 7,
     "metadata": {},
     "output_type": "execute_result"
    }
   ],
   "source": [
    "phenotypes_data_df = pd.read_csv('../data/phenotypes/relevant_occurrences_wide.tsv', \n",
    "                                 sep='\\t', index_col=0)\n",
    "\n",
    "phenotypes_data_df.head(0)"
   ]
  },
  {
   "cell_type": "markdown",
   "id": "9b6c42fd",
   "metadata": {},
   "source": [
    "# Train model"
   ]
  },
  {
   "cell_type": "code",
   "execution_count": 8,
   "id": "f9ef6f88",
   "metadata": {},
   "outputs": [],
   "source": [
    "def train(code, learning_rate=0.001, n_iter=5000, name=None):\n",
    "    \"\"\"Simple helper function for running this multiple times\"\"\"\n",
    "    fitter = model.CombinationFitter.from_tables(code, genetic_covariance_matrix_df, \n",
    "                                                 phenotypic_covariance_matrix_df, phenotypes_data_df)\n",
    "    fitter.fit(n_iter=n_iter, seed=0, learning_rate=learning_rate, verbose=False)\n",
    "\n",
    "    if name is None:\n",
    "        name = f'saved_qtphenproxy_{code}'\n",
    "    fitter.save_fit(f'../data/{name}', person_ids=phenotypes_data_df.index.tolist())\n",
    "    return fitter"
   ]
  },
  {
   "cell_type": "code",
   "execution_count": 24,
   "id": "6be0a7a5",
   "metadata": {},
   "outputs": [
    {
     "data": {
      "application/vnd.jupyter.widget-view+json": {
       "model_id": "86eda7081e7b475dbdde238ec16b0a4f",
       "version_major": 2,
       "version_minor": 0
      },
      "text/plain": [
       "  0%|          | 0/10 [00:00<?, ?it/s]"
      ]
     },
     "metadata": {},
     "output_type": "display_data"
    }
   ],
   "source": [
    "mod1 = train('I21')"
   ]
  },
  {
   "cell_type": "code",
   "execution_count": 25,
   "id": "51581d1c",
   "metadata": {},
   "outputs": [
    {
     "data": {
      "application/vnd.jupyter.widget-view+json": {
       "model_id": "21bbcd036dcf46c292eb4de6cfc1013d",
       "version_major": 2,
       "version_minor": 0
      },
      "text/plain": [
       "  0%|          | 0/10 [00:00<?, ?it/s]"
      ]
     },
     "metadata": {},
     "output_type": "display_data"
    }
   ],
   "source": [
    "mod2 = train('I63')"
   ]
  }
 ],
 "metadata": {
  "kernelspec": {
   "display_name": "Python [conda env:qtp] *",
   "language": "python",
   "name": "conda-env-qtp-py"
  },
  "language_info": {
   "codemirror_mode": {
    "name": "ipython",
    "version": 3
   },
   "file_extension": ".py",
   "mimetype": "text/x-python",
   "name": "python",
   "nbconvert_exporter": "python",
   "pygments_lexer": "ipython3",
   "version": "3.9.5"
  }
 },
 "nbformat": 4,
 "nbformat_minor": 5
}
