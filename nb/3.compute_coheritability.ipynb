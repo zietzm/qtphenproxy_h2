{
 "cells": [
  {
   "cell_type": "code",
   "execution_count": 1,
   "id": "5759003f",
   "metadata": {},
   "outputs": [],
   "source": [
    "import pathlib\n",
    "\n",
    "import pandas as pd"
   ]
  },
  {
   "cell_type": "code",
   "execution_count": 2,
   "id": "36d78694",
   "metadata": {},
   "outputs": [
    {
     "data": {
      "text/html": [
       "<div>\n",
       "<style scoped>\n",
       "    .dataframe tbody tr th:only-of-type {\n",
       "        vertical-align: middle;\n",
       "    }\n",
       "\n",
       "    .dataframe tbody tr th {\n",
       "        vertical-align: top;\n",
       "    }\n",
       "\n",
       "    .dataframe thead th {\n",
       "        text-align: right;\n",
       "    }\n",
       "</style>\n",
       "<table border=\"1\" class=\"dataframe\">\n",
       "  <thead>\n",
       "    <tr style=\"text-align: right;\">\n",
       "      <th></th>\n",
       "      <th>code</th>\n",
       "    </tr>\n",
       "  </thead>\n",
       "  <tbody>\n",
       "    <tr>\n",
       "      <th>0</th>\n",
       "      <td>A09</td>\n",
       "    </tr>\n",
       "    <tr>\n",
       "      <th>1</th>\n",
       "      <td>C18</td>\n",
       "    </tr>\n",
       "  </tbody>\n",
       "</table>\n",
       "</div>"
      ],
      "text/plain": [
       "  code\n",
       "0  A09\n",
       "1  C18"
      ]
     },
     "execution_count": 2,
     "metadata": {},
     "output_type": "execute_result"
    }
   ],
   "source": [
    "codes_df = pd.read_csv('../data/phenotypes_meta/chosen_icd_codes.csv', header=None, names=['code'])\n",
    "\n",
    "codes_df.head(2)"
   ]
  },
  {
   "cell_type": "markdown",
   "id": "2ad57040",
   "metadata": {},
   "source": [
    "# Heritability information"
   ]
  },
  {
   "cell_type": "code",
   "execution_count": 4,
   "id": "0384e5c5",
   "metadata": {},
   "outputs": [
    {
     "data": {
      "text/html": [
       "<div>\n",
       "<style scoped>\n",
       "    .dataframe tbody tr th:only-of-type {\n",
       "        vertical-align: middle;\n",
       "    }\n",
       "\n",
       "    .dataframe tbody tr th {\n",
       "        vertical-align: top;\n",
       "    }\n",
       "\n",
       "    .dataframe thead th {\n",
       "        text-align: right;\n",
       "    }\n",
       "</style>\n",
       "<table border=\"1\" class=\"dataframe\">\n",
       "  <thead>\n",
       "    <tr style=\"text-align: right;\">\n",
       "      <th></th>\n",
       "      <th>phenotype</th>\n",
       "      <th>sex</th>\n",
       "      <th>n_cases</th>\n",
       "      <th>n_controls</th>\n",
       "      <th>h2_liability</th>\n",
       "      <th>h2_liability_se</th>\n",
       "      <th>h2_z</th>\n",
       "      <th>h2_p</th>\n",
       "    </tr>\n",
       "  </thead>\n",
       "  <tbody>\n",
       "    <tr>\n",
       "      <th>0</th>\n",
       "      <td>100001_irnt</td>\n",
       "      <td>both_sexes</td>\n",
       "      <td>NaN</td>\n",
       "      <td>NaN</td>\n",
       "      <td>0.068818</td>\n",
       "      <td>0.016857</td>\n",
       "      <td>4.082528</td>\n",
       "      <td>0.000022</td>\n",
       "    </tr>\n",
       "    <tr>\n",
       "      <th>1</th>\n",
       "      <td>100001_raw</td>\n",
       "      <td>both_sexes</td>\n",
       "      <td>NaN</td>\n",
       "      <td>NaN</td>\n",
       "      <td>0.069468</td>\n",
       "      <td>0.016275</td>\n",
       "      <td>4.268457</td>\n",
       "      <td>0.000010</td>\n",
       "    </tr>\n",
       "  </tbody>\n",
       "</table>\n",
       "</div>"
      ],
      "text/plain": [
       "     phenotype         sex  n_cases  n_controls  h2_liability  \\\n",
       "0  100001_irnt  both_sexes      NaN         NaN      0.068818   \n",
       "1   100001_raw  both_sexes      NaN         NaN      0.069468   \n",
       "\n",
       "   h2_liability_se      h2_z      h2_p  \n",
       "0         0.016857  4.082528  0.000022  \n",
       "1         0.016275  4.268457  0.000010  "
      ]
     },
     "execution_count": 4,
     "metadata": {},
     "output_type": "execute_result"
    }
   ],
   "source": [
    "h2_df = pd.read_csv('../data/neale_heritability_estimates/ukb31063_h2_all.02Oct2019.tsv.gz', \n",
    "                    usecols=['phenotype', 'sex', 'n_cases', 'n_controls', 'h2_liability', \n",
    "                             'h2_liability_se', 'h2_z', 'h2_p'], sep='\\t', compression='gzip')\n",
    "\n",
    "h2_df.head(2)"
   ]
  },
  {
   "cell_type": "code",
   "execution_count": 8,
   "id": "ea28e52f",
   "metadata": {
    "scrolled": false
   },
   "outputs": [
    {
     "data": {
      "text/html": [
       "<div>\n",
       "<style scoped>\n",
       "    .dataframe tbody tr th:only-of-type {\n",
       "        vertical-align: middle;\n",
       "    }\n",
       "\n",
       "    .dataframe tbody tr th {\n",
       "        vertical-align: top;\n",
       "    }\n",
       "\n",
       "    .dataframe thead th {\n",
       "        text-align: right;\n",
       "    }\n",
       "</style>\n",
       "<table border=\"1\" class=\"dataframe\">\n",
       "  <thead>\n",
       "    <tr style=\"text-align: right;\">\n",
       "      <th></th>\n",
       "      <th>code</th>\n",
       "      <th>n_cases</th>\n",
       "      <th>n_controls</th>\n",
       "      <th>h2_liability</th>\n",
       "      <th>h2_liability_se</th>\n",
       "      <th>h2_z</th>\n",
       "      <th>h2_p</th>\n",
       "    </tr>\n",
       "  </thead>\n",
       "  <tbody>\n",
       "    <tr>\n",
       "      <th>0</th>\n",
       "      <td>A09</td>\n",
       "      <td>2161.0</td>\n",
       "      <td>359033.0</td>\n",
       "      <td>-0.029687</td>\n",
       "      <td>0.043285</td>\n",
       "      <td>-0.685859</td>\n",
       "      <td>0.753599</td>\n",
       "    </tr>\n",
       "    <tr>\n",
       "      <th>1</th>\n",
       "      <td>C18</td>\n",
       "      <td>2226.0</td>\n",
       "      <td>358968.0</td>\n",
       "      <td>0.120329</td>\n",
       "      <td>0.042461</td>\n",
       "      <td>2.833887</td>\n",
       "      <td>0.002299</td>\n",
       "    </tr>\n",
       "  </tbody>\n",
       "</table>\n",
       "</div>"
      ],
      "text/plain": [
       "  code  n_cases  n_controls  h2_liability  h2_liability_se      h2_z      h2_p\n",
       "0  A09   2161.0    359033.0     -0.029687         0.043285 -0.685859  0.753599\n",
       "1  C18   2226.0    358968.0      0.120329         0.042461  2.833887  0.002299"
      ]
     },
     "execution_count": 8,
     "metadata": {},
     "output_type": "execute_result"
    }
   ],
   "source": [
    "relevant_h2_df = (\n",
    "    h2_df\n",
    "    .query('sex == \"both_sexes\"')\n",
    "    .merge(codes_df, left_on='phenotype', right_on='code')\n",
    "    .filter(items=['code', 'n_cases', 'n_controls', 'h2_liability', 'h2_liability_se', 'h2_z', 'h2_p'])\n",
    ")\n",
    "\n",
    "relevant_h2_df.to_csv('../data/phenotypes_meta/heritability.tsv', sep='\\t', index=False)\n",
    "\n",
    "relevant_h2_df.head(2)"
   ]
  },
  {
   "cell_type": "markdown",
   "id": "79c78b3a",
   "metadata": {},
   "source": [
    "# Genetic correlation information"
   ]
  },
  {
   "cell_type": "code",
   "execution_count": 13,
   "id": "903489e3",
   "metadata": {},
   "outputs": [
    {
     "data": {
      "text/html": [
       "<div>\n",
       "<style scoped>\n",
       "    .dataframe tbody tr th:only-of-type {\n",
       "        vertical-align: middle;\n",
       "    }\n",
       "\n",
       "    .dataframe tbody tr th {\n",
       "        vertical-align: top;\n",
       "    }\n",
       "\n",
       "    .dataframe thead th {\n",
       "        text-align: right;\n",
       "    }\n",
       "</style>\n",
       "<table border=\"1\" class=\"dataframe\">\n",
       "  <thead>\n",
       "    <tr style=\"text-align: right;\">\n",
       "      <th></th>\n",
       "      <th>p1</th>\n",
       "      <th>p2</th>\n",
       "      <th>rg</th>\n",
       "      <th>se</th>\n",
       "      <th>p</th>\n",
       "    </tr>\n",
       "  </thead>\n",
       "  <tbody>\n",
       "    <tr>\n",
       "      <th>0</th>\n",
       "      <td>A09</td>\n",
       "      <td>C18</td>\n",
       "      <td>-1.01300</td>\n",
       "      <td>1.0920</td>\n",
       "      <td>0.3535</td>\n",
       "    </tr>\n",
       "    <tr>\n",
       "      <th>1</th>\n",
       "      <td>A09</td>\n",
       "      <td>C34</td>\n",
       "      <td>-0.07082</td>\n",
       "      <td>0.6842</td>\n",
       "      <td>0.9176</td>\n",
       "    </tr>\n",
       "  </tbody>\n",
       "</table>\n",
       "</div>"
      ],
      "text/plain": [
       "    p1   p2       rg      se       p\n",
       "0  A09  C18 -1.01300  1.0920  0.3535\n",
       "1  A09  C34 -0.07082  0.6842  0.9176"
      ]
     },
     "execution_count": 13,
     "metadata": {},
     "output_type": "execute_result"
    }
   ],
   "source": [
    "rg_df = pd.read_csv('../data/phenotypes_meta/genetic_correlation.tsv', sep='\\t')\n",
    "\n",
    "rg_df.head(2)"
   ]
  },
  {
   "cell_type": "markdown",
   "id": "8e00fecf",
   "metadata": {},
   "source": [
    "# Phenotypic correlation information"
   ]
  },
  {
   "cell_type": "code",
   "execution_count": 14,
   "id": "b314e7e9",
   "metadata": {},
   "outputs": [
    {
     "data": {
      "text/html": [
       "<div>\n",
       "<style scoped>\n",
       "    .dataframe tbody tr th:only-of-type {\n",
       "        vertical-align: middle;\n",
       "    }\n",
       "\n",
       "    .dataframe tbody tr th {\n",
       "        vertical-align: top;\n",
       "    }\n",
       "\n",
       "    .dataframe thead th {\n",
       "        text-align: right;\n",
       "    }\n",
       "</style>\n",
       "<table border=\"1\" class=\"dataframe\">\n",
       "  <thead>\n",
       "    <tr style=\"text-align: right;\">\n",
       "      <th></th>\n",
       "      <th>p1</th>\n",
       "      <th>p2</th>\n",
       "      <th>rp</th>\n",
       "      <th>cp</th>\n",
       "    </tr>\n",
       "  </thead>\n",
       "  <tbody>\n",
       "    <tr>\n",
       "      <th>0</th>\n",
       "      <td>A09</td>\n",
       "      <td>C18</td>\n",
       "      <td>0.022819</td>\n",
       "      <td>0.022819</td>\n",
       "    </tr>\n",
       "    <tr>\n",
       "      <th>1</th>\n",
       "      <td>A09</td>\n",
       "      <td>C34</td>\n",
       "      <td>0.023801</td>\n",
       "      <td>0.023801</td>\n",
       "    </tr>\n",
       "  </tbody>\n",
       "</table>\n",
       "</div>"
      ],
      "text/plain": [
       "    p1   p2        rp        cp\n",
       "0  A09  C18  0.022819  0.022819\n",
       "1  A09  C34  0.023801  0.023801"
      ]
     },
     "execution_count": 14,
     "metadata": {},
     "output_type": "execute_result"
    }
   ],
   "source": [
    "rp_df = pd.read_csv('../data/phenotypes_meta/phenotypic_correlation.tsv', sep='\\t')\n",
    "\n",
    "rp_df.head(2)"
   ]
  },
  {
   "cell_type": "markdown",
   "id": "75a5e05c",
   "metadata": {},
   "source": [
    "# Combine information"
   ]
  },
  {
   "cell_type": "code",
   "execution_count": 22,
   "id": "7e2a59a0",
   "metadata": {},
   "outputs": [
    {
     "data": {
      "text/html": [
       "<div>\n",
       "<style scoped>\n",
       "    .dataframe tbody tr th:only-of-type {\n",
       "        vertical-align: middle;\n",
       "    }\n",
       "\n",
       "    .dataframe tbody tr th {\n",
       "        vertical-align: top;\n",
       "    }\n",
       "\n",
       "    .dataframe thead th {\n",
       "        text-align: right;\n",
       "    }\n",
       "</style>\n",
       "<table border=\"1\" class=\"dataframe\">\n",
       "  <thead>\n",
       "    <tr style=\"text-align: right;\">\n",
       "      <th></th>\n",
       "      <th>code_1</th>\n",
       "      <th>code_2</th>\n",
       "      <th>h2_liability_1</th>\n",
       "      <th>h2_liability_2</th>\n",
       "      <th>rg</th>\n",
       "      <th>rp</th>\n",
       "      <th>coheritability</th>\n",
       "    </tr>\n",
       "  </thead>\n",
       "  <tbody>\n",
       "    <tr>\n",
       "      <th>0</th>\n",
       "      <td>A09</td>\n",
       "      <td>C18</td>\n",
       "      <td>-0.029687</td>\n",
       "      <td>0.120329</td>\n",
       "      <td>-1.01300</td>\n",
       "      <td>0.022819</td>\n",
       "      <td>NaN</td>\n",
       "    </tr>\n",
       "    <tr>\n",
       "      <th>1</th>\n",
       "      <td>A09</td>\n",
       "      <td>C34</td>\n",
       "      <td>-0.029687</td>\n",
       "      <td>0.116966</td>\n",
       "      <td>-0.07082</td>\n",
       "      <td>0.023801</td>\n",
       "      <td>NaN</td>\n",
       "    </tr>\n",
       "  </tbody>\n",
       "</table>\n",
       "</div>"
      ],
      "text/plain": [
       "  code_1 code_2  h2_liability_1  h2_liability_2       rg        rp  \\\n",
       "0    A09    C18       -0.029687        0.120329 -1.01300  0.022819   \n",
       "1    A09    C34       -0.029687        0.116966 -0.07082  0.023801   \n",
       "\n",
       "   coheritability  \n",
       "0             NaN  \n",
       "1             NaN  "
      ]
     },
     "execution_count": 22,
     "metadata": {},
     "output_type": "execute_result"
    }
   ],
   "source": [
    "coheritability_df = (\n",
    "    rg_df\n",
    "    .merge(rp_df, on=['p1', 'p2'])\n",
    "    .merge(relevant_h2_df, left_on='p1', right_on='code')\n",
    "    .merge(relevant_h2_df, left_on='p2', right_on='code', suffixes=['_1', '_2'])\n",
    "    .assign(coheritability=lambda df: (df['h2_liability_1'] * df['h2_liability_2'])**0.5 * df['rg'] / df['rp'])\n",
    "    .filter(items=['code_1', 'code_2', 'h2_liability_1', 'h2_liability_2', 'rg', 'rp', 'coheritability'])\n",
    ")\n",
    "\n",
    "coheritability_df.to_csv('../data/phenotypes_meta/coheritability.tsv', sep='\\t', index=False)\n",
    "\n",
    "coheritability_df.head(2)"
   ]
  }
 ],
 "metadata": {
  "kernelspec": {
   "display_name": "Python [conda env:qtp] *",
   "language": "python",
   "name": "conda-env-qtp-py"
  },
  "language_info": {
   "codemirror_mode": {
    "name": "ipython",
    "version": 3
   },
   "file_extension": ".py",
   "mimetype": "text/x-python",
   "name": "python",
   "nbconvert_exporter": "python",
   "pygments_lexer": "ipython3",
   "version": "3.9.5"
  }
 },
 "nbformat": 4,
 "nbformat_minor": 5
}
