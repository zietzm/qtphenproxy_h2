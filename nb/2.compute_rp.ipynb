{
 "cells": [
  {
   "cell_type": "code",
   "execution_count": 1,
   "id": "1de92d5b",
   "metadata": {},
   "outputs": [],
   "source": [
    "import numpy as np\n",
    "import pandas as pd\n",
    "import statsmodels.api as sm\n",
    "import tqdm.notebook"
   ]
  },
  {
   "cell_type": "markdown",
   "id": "a475a172",
   "metadata": {},
   "source": [
    "# Computing phenotypic correlations\n",
    "\n",
    "This is loosely based on https://gist.github.com/ce-carey/6480d6544f132829d9579b2a1f1455b4.\n",
    "\n",
    "We will compute the correlations between residualized phenotypes after adjusting for the GWAS covariates."
   ]
  },
  {
   "cell_type": "markdown",
   "id": "4b4554ed",
   "metadata": {},
   "source": [
    "# 1. Build outcomes (phenotypes) table"
   ]
  },
  {
   "cell_type": "code",
   "execution_count": 2,
   "id": "7d255674",
   "metadata": {},
   "outputs": [
    {
     "data": {
      "text/html": [
       "<div>\n",
       "<style scoped>\n",
       "    .dataframe tbody tr th:only-of-type {\n",
       "        vertical-align: middle;\n",
       "    }\n",
       "\n",
       "    .dataframe tbody tr th {\n",
       "        vertical-align: top;\n",
       "    }\n",
       "\n",
       "    .dataframe thead th {\n",
       "        text-align: right;\n",
       "    }\n",
       "</style>\n",
       "<table border=\"1\" class=\"dataframe\">\n",
       "  <thead>\n",
       "    <tr style=\"text-align: right;\">\n",
       "      <th></th>\n",
       "      <th>code</th>\n",
       "    </tr>\n",
       "  </thead>\n",
       "  <tbody>\n",
       "    <tr>\n",
       "      <th>0</th>\n",
       "      <td>A09</td>\n",
       "    </tr>\n",
       "    <tr>\n",
       "      <th>1</th>\n",
       "      <td>C18</td>\n",
       "    </tr>\n",
       "  </tbody>\n",
       "</table>\n",
       "</div>"
      ],
      "text/plain": [
       "  code\n",
       "0  A09\n",
       "1  C18"
      ]
     },
     "execution_count": 2,
     "metadata": {},
     "output_type": "execute_result"
    }
   ],
   "source": [
    "relevant_icd_10_df = pd.read_csv('../data/phenotypes_meta/chosen_icd_codes.csv', header=None, names=['code'])\n",
    "\n",
    "relevant_icd_10_df.head(2)"
   ]
  },
  {
   "cell_type": "code",
   "execution_count": 3,
   "id": "c8f41644",
   "metadata": {},
   "outputs": [
    {
     "data": {
      "text/html": [
       "<div>\n",
       "<style scoped>\n",
       "    .dataframe tbody tr th:only-of-type {\n",
       "        vertical-align: middle;\n",
       "    }\n",
       "\n",
       "    .dataframe tbody tr th {\n",
       "        vertical-align: top;\n",
       "    }\n",
       "\n",
       "    .dataframe thead th {\n",
       "        text-align: right;\n",
       "    }\n",
       "</style>\n",
       "<table border=\"1\" class=\"dataframe\">\n",
       "  <thead>\n",
       "    <tr style=\"text-align: right;\">\n",
       "      <th></th>\n",
       "      <th>eid</th>\n",
       "      <th>icd10_code</th>\n",
       "      <th>column_code</th>\n",
       "    </tr>\n",
       "  </thead>\n",
       "  <tbody>\n",
       "  </tbody>\n",
       "</table>\n",
       "</div>"
      ],
      "text/plain": [
       "Empty DataFrame\n",
       "Columns: [eid, icd10_code, column_code]\n",
       "Index: []"
      ]
     },
     "execution_count": 3,
     "metadata": {},
     "output_type": "execute_result"
    }
   ],
   "source": [
    "# Copy the table to the local directory\n",
    "# icd_10_df = pd.read_csv('/data1/deep_storage/ukbiobank/ukb_datapulls/ukb23674_icd10_long.txt.gz', \n",
    "#                         sep='\\t', compression='gzip')\n",
    "\n",
    "# icd_10_df.to_csv('../data/phenotypes/ukb_raw_icd10_long.tsv.gz', sep='\\t', index=False, compression='gzip')\n",
    "\n",
    "icd_10_df = pd.read_csv('../data/phenotypes/ukb_raw_icd10_long.tsv.gz', sep='\\t', compression='gzip')\n",
    "\n",
    "icd_10_df.head(0)"
   ]
  },
  {
   "cell_type": "code",
   "execution_count": 4,
   "id": "e03112d4",
   "metadata": {},
   "outputs": [
    {
     "data": {
      "text/html": [
       "<div>\n",
       "<style scoped>\n",
       "    .dataframe tbody tr th:only-of-type {\n",
       "        vertical-align: middle;\n",
       "    }\n",
       "\n",
       "    .dataframe tbody tr th {\n",
       "        vertical-align: top;\n",
       "    }\n",
       "\n",
       "    .dataframe thead th {\n",
       "        text-align: right;\n",
       "    }\n",
       "</style>\n",
       "<table border=\"1\" class=\"dataframe\">\n",
       "  <thead>\n",
       "    <tr style=\"text-align: right;\">\n",
       "      <th></th>\n",
       "      <th>eid</th>\n",
       "    </tr>\n",
       "  </thead>\n",
       "  <tbody>\n",
       "  </tbody>\n",
       "</table>\n",
       "</div>"
      ],
      "text/plain": [
       "Empty DataFrame\n",
       "Columns: [eid]\n",
       "Index: []"
      ]
     },
     "execution_count": 4,
     "metadata": {},
     "output_type": "execute_result"
    }
   ],
   "source": [
    "all_eid_df = icd_10_df[['eid']].drop_duplicates()\n",
    "\n",
    "all_eid_df.to_csv('../data/phenotypes/all_eids.tsv', sep='\\t', index=False)\n",
    "\n",
    "all_eid_df.head(0)"
   ]
  },
  {
   "cell_type": "code",
   "execution_count": 5,
   "id": "56925191",
   "metadata": {},
   "outputs": [
    {
     "data": {
      "text/html": [
       "<div>\n",
       "<style scoped>\n",
       "    .dataframe tbody tr th:only-of-type {\n",
       "        vertical-align: middle;\n",
       "    }\n",
       "\n",
       "    .dataframe tbody tr th {\n",
       "        vertical-align: top;\n",
       "    }\n",
       "\n",
       "    .dataframe thead th {\n",
       "        text-align: right;\n",
       "    }\n",
       "</style>\n",
       "<table border=\"1\" class=\"dataframe\">\n",
       "  <thead>\n",
       "    <tr style=\"text-align: right;\">\n",
       "      <th></th>\n",
       "      <th>eid</th>\n",
       "      <th>code</th>\n",
       "    </tr>\n",
       "  </thead>\n",
       "  <tbody>\n",
       "  </tbody>\n",
       "</table>\n",
       "</div>"
      ],
      "text/plain": [
       "Empty DataFrame\n",
       "Columns: [eid, code]\n",
       "Index: []"
      ]
     },
     "execution_count": 5,
     "metadata": {},
     "output_type": "execute_result"
    }
   ],
   "source": [
    "relevant_code_occurrences_df = (\n",
    "    icd_10_df\n",
    "    .assign(\n",
    "        code=lambda df: df['icd10_code'].apply(lambda x: x[:3]),\n",
    "        had_code=1\n",
    "    )\n",
    "    .merge(relevant_icd_10_df, on='code')\n",
    "    .groupby(['eid', 'code'])\n",
    "    .agg({'had_code': 'max'})\n",
    "    .reset_index()\n",
    "    .query('had_code == 1')\n",
    "    .filter(items=['eid', 'code'])\n",
    ")\n",
    "\n",
    "relevant_code_occurrences_df.to_csv('../data/phenotypes/relevant_occurrences_long.tsv', sep='\\t', index=False)\n",
    "\n",
    "relevant_code_occurrences_df.head(0)"
   ]
  },
  {
   "cell_type": "code",
   "execution_count": 6,
   "id": "3b5edadd",
   "metadata": {},
   "outputs": [
    {
     "data": {
      "text/html": [
       "<div>\n",
       "<style scoped>\n",
       "    .dataframe tbody tr th:only-of-type {\n",
       "        vertical-align: middle;\n",
       "    }\n",
       "\n",
       "    .dataframe tbody tr th {\n",
       "        vertical-align: top;\n",
       "    }\n",
       "\n",
       "    .dataframe thead th {\n",
       "        text-align: right;\n",
       "    }\n",
       "</style>\n",
       "<table border=\"1\" class=\"dataframe\">\n",
       "  <thead>\n",
       "    <tr style=\"text-align: right;\">\n",
       "      <th>code</th>\n",
       "      <th>IID</th>\n",
       "      <th>A09</th>\n",
       "      <th>C18</th>\n",
       "      <th>C34</th>\n",
       "      <th>C43</th>\n",
       "      <th>C44</th>\n",
       "      <th>C50</th>\n",
       "      <th>C67</th>\n",
       "      <th>D12</th>\n",
       "      <th>D17</th>\n",
       "      <th>...</th>\n",
       "      <th>Z01</th>\n",
       "      <th>Z03</th>\n",
       "      <th>Z08</th>\n",
       "      <th>Z09</th>\n",
       "      <th>Z12</th>\n",
       "      <th>Z42</th>\n",
       "      <th>Z43</th>\n",
       "      <th>Z45</th>\n",
       "      <th>Z47</th>\n",
       "      <th>Z53</th>\n",
       "    </tr>\n",
       "  </thead>\n",
       "  <tbody>\n",
       "  </tbody>\n",
       "</table>\n",
       "<p>0 rows × 143 columns</p>\n",
       "</div>"
      ],
      "text/plain": [
       "Empty DataFrame\n",
       "Columns: [IID, A09, C18, C34, C43, C44, C50, C67, D12, D17, D22, D23, D50, D64, G47, G56, H00, H02, H04, H25, H26, H33, H40, I20, I21, I25, I26, I47, I48, I63, I80, I83, I84, J18, J22, J32, J33, J34, J44, J45, K01, K02, K08, K13, K20, K21, K22, K25, K26, K29, K30, K31, K35, K40, K42, K43, K44, K51, K52, K56, K57, K59, K60, K62, K63, K80, K81, K85, L02, L03, L57, L72, L82, L90, L98, M06, M15, M16, M17, M19, M20, M23, M24, M25, M47, M48, M51, M54, M65, M67, M72, M75, M79, N13, N20, N23, N30, N32, N35, N39, ...]\n",
       "Index: []\n",
       "\n",
       "[0 rows x 143 columns]"
      ]
     },
     "execution_count": 6,
     "metadata": {},
     "output_type": "execute_result"
    }
   ],
   "source": [
    "wide_phenotypes_df = (\n",
    "    all_eid_df\n",
    "    .merge(relevant_code_occurrences_df.assign(had=1), on='eid', how='left')\n",
    "    .pivot_table(index='eid', columns='code', values='had', aggfunc='max', fill_value=0)\n",
    "    .reset_index()\n",
    "    .rename(columns={'eid': 'IID'})\n",
    ")\n",
    "\n",
    "wide_phenotypes_df.to_csv('../data/phenotypes/relevant_occurrences_wide.tsv', sep='\\t', index=False)\n",
    "\n",
    "wide_phenotypes_df.head(0)"
   ]
  },
  {
   "cell_type": "markdown",
   "id": "b02ac95a",
   "metadata": {},
   "source": [
    "# 2. Build covariates table"
   ]
  },
  {
   "cell_type": "code",
   "execution_count": 7,
   "id": "80dafedb",
   "metadata": {},
   "outputs": [
    {
     "data": {
      "text/html": [
       "<div>\n",
       "<style scoped>\n",
       "    .dataframe tbody tr th:only-of-type {\n",
       "        vertical-align: middle;\n",
       "    }\n",
       "\n",
       "    .dataframe tbody tr th {\n",
       "        vertical-align: top;\n",
       "    }\n",
       "\n",
       "    .dataframe thead th {\n",
       "        text-align: right;\n",
       "    }\n",
       "</style>\n",
       "<table border=\"1\" class=\"dataframe\">\n",
       "  <thead>\n",
       "    <tr style=\"text-align: right;\">\n",
       "      <th></th>\n",
       "      <th>FID</th>\n",
       "      <th>IID</th>\n",
       "      <th>sex</th>\n",
       "      <th>age</th>\n",
       "      <th>PC1</th>\n",
       "      <th>PC2</th>\n",
       "      <th>PC3</th>\n",
       "      <th>PC4</th>\n",
       "      <th>PC5</th>\n",
       "      <th>PC6</th>\n",
       "      <th>PC7</th>\n",
       "      <th>PC8</th>\n",
       "      <th>PC9</th>\n",
       "      <th>PC10</th>\n",
       "    </tr>\n",
       "  </thead>\n",
       "  <tbody>\n",
       "  </tbody>\n",
       "</table>\n",
       "</div>"
      ],
      "text/plain": [
       "Empty DataFrame\n",
       "Columns: [FID, IID, sex, age, PC1, PC2, PC3, PC4, PC5, PC6, PC7, PC8, PC9, PC10]\n",
       "Index: []"
      ]
     },
     "execution_count": 7,
     "metadata": {},
     "output_type": "execute_result"
    }
   ],
   "source": [
    "# # Copy the covariates file to the local directory and add a header\n",
    "# covar_df = pd.read_csv('/data1/deep_storage/ukbiobank/pt2281/covar_chip/covar_chr1_chip.txt', \n",
    "#                        sep='\\s+', header=None, usecols=list(range(14)), \n",
    "#                        names=['FID', 'IID', 'sex', 'age', 'PC1', 'PC2', 'PC3', 'PC4', 'PC5', \n",
    "#                               'PC6', 'PC7', 'PC8', 'PC9', 'PC10'])\n",
    "\n",
    "# covar_df.to_csv('../data/phenotypes/raw_covariates.covar', sep='\\t', index=False)\n",
    "\n",
    "covar_df = pd.read_csv('../data/phenotypes/raw_covariates.covar', sep='\\t')\n",
    "\n",
    "covar_df.head(0)"
   ]
  },
  {
   "cell_type": "code",
   "execution_count": 8,
   "id": "fb1a6191",
   "metadata": {},
   "outputs": [
    {
     "data": {
      "text/html": [
       "<div>\n",
       "<style scoped>\n",
       "    .dataframe tbody tr th:only-of-type {\n",
       "        vertical-align: middle;\n",
       "    }\n",
       "\n",
       "    .dataframe tbody tr th {\n",
       "        vertical-align: top;\n",
       "    }\n",
       "\n",
       "    .dataframe thead th {\n",
       "        text-align: right;\n",
       "    }\n",
       "</style>\n",
       "<table border=\"1\" class=\"dataframe\">\n",
       "  <thead>\n",
       "    <tr style=\"text-align: right;\">\n",
       "      <th></th>\n",
       "      <th>FID</th>\n",
       "      <th>IID</th>\n",
       "      <th>sex</th>\n",
       "      <th>age</th>\n",
       "      <th>PC1</th>\n",
       "      <th>PC2</th>\n",
       "      <th>PC3</th>\n",
       "      <th>PC4</th>\n",
       "      <th>PC5</th>\n",
       "      <th>PC6</th>\n",
       "      <th>PC7</th>\n",
       "      <th>PC8</th>\n",
       "      <th>PC9</th>\n",
       "      <th>PC10</th>\n",
       "      <th>age_squared</th>\n",
       "      <th>age_sex</th>\n",
       "      <th>age_squared_sex</th>\n",
       "    </tr>\n",
       "  </thead>\n",
       "  <tbody>\n",
       "  </tbody>\n",
       "</table>\n",
       "</div>"
      ],
      "text/plain": [
       "Empty DataFrame\n",
       "Columns: [FID, IID, sex, age, PC1, PC2, PC3, PC4, PC5, PC6, PC7, PC8, PC9, PC10, age_squared, age_sex, age_squared_sex]\n",
       "Index: []"
      ]
     },
     "execution_count": 8,
     "metadata": {},
     "output_type": "execute_result"
    }
   ],
   "source": [
    "gwas_covar_df = (\n",
    "    covar_df\n",
    "    .assign(\n",
    "        age_squared=lambda df: df['age']**2,\n",
    "        age_sex=lambda df: df['sex'] * df['age'],\n",
    "        age_squared_sex=lambda df: df['sex'] * df['age_squared']\n",
    "    )\n",
    ")\n",
    "\n",
    "gwas_covar_df.to_csv('../data/phenotypes/gwas_covariates.covar', sep='\\t', index=False)\n",
    "\n",
    "gwas_covar_df.head(0)"
   ]
  },
  {
   "cell_type": "markdown",
   "id": "c176d6c0",
   "metadata": {},
   "source": [
    "# 3. Compute residualized phenotypes"
   ]
  },
  {
   "cell_type": "code",
   "execution_count": 9,
   "id": "acd00b9f",
   "metadata": {},
   "outputs": [
    {
     "data": {
      "text/html": [
       "<div>\n",
       "<style scoped>\n",
       "    .dataframe tbody tr th:only-of-type {\n",
       "        vertical-align: middle;\n",
       "    }\n",
       "\n",
       "    .dataframe tbody tr th {\n",
       "        vertical-align: top;\n",
       "    }\n",
       "\n",
       "    .dataframe thead th {\n",
       "        text-align: right;\n",
       "    }\n",
       "</style>\n",
       "<table border=\"1\" class=\"dataframe\">\n",
       "  <thead>\n",
       "    <tr style=\"text-align: right;\">\n",
       "      <th></th>\n",
       "      <th>IID</th>\n",
       "      <th>A09</th>\n",
       "      <th>C18</th>\n",
       "      <th>C34</th>\n",
       "      <th>C43</th>\n",
       "      <th>C44</th>\n",
       "      <th>C50</th>\n",
       "      <th>C67</th>\n",
       "      <th>D12</th>\n",
       "      <th>D17</th>\n",
       "      <th>...</th>\n",
       "      <th>PC4</th>\n",
       "      <th>PC5</th>\n",
       "      <th>PC6</th>\n",
       "      <th>PC7</th>\n",
       "      <th>PC8</th>\n",
       "      <th>PC9</th>\n",
       "      <th>PC10</th>\n",
       "      <th>age_squared</th>\n",
       "      <th>age_sex</th>\n",
       "      <th>age_squared_sex</th>\n",
       "    </tr>\n",
       "  </thead>\n",
       "  <tbody>\n",
       "  </tbody>\n",
       "</table>\n",
       "<p>0 rows × 158 columns</p>\n",
       "</div>"
      ],
      "text/plain": [
       "Empty DataFrame\n",
       "Columns: [IID, A09, C18, C34, C43, C44, C50, C67, D12, D17, D22, D23, D50, D64, G47, G56, H00, H02, H04, H25, H26, H33, H40, I20, I21, I25, I26, I47, I48, I63, I80, I83, I84, J18, J22, J32, J33, J34, J44, J45, K01, K02, K08, K13, K20, K21, K22, K25, K26, K29, K30, K31, K35, K40, K42, K43, K44, K51, K52, K56, K57, K59, K60, K62, K63, K80, K81, K85, L02, L03, L57, L72, L82, L90, L98, M06, M15, M16, M17, M19, M20, M23, M24, M25, M47, M48, M51, M54, M65, M67, M72, M75, M79, N13, N20, N23, N30, N32, N35, N39, ...]\n",
       "Index: []\n",
       "\n",
       "[0 rows x 158 columns]"
      ]
     },
     "execution_count": 9,
     "metadata": {},
     "output_type": "execute_result"
    }
   ],
   "source": [
    "full_df = wide_phenotypes_df.merge(gwas_covar_df, on='IID').drop(columns=['FID'])\n",
    "\n",
    "full_df.head(0)"
   ]
  },
  {
   "cell_type": "code",
   "execution_count": 10,
   "id": "f4ec7719",
   "metadata": {},
   "outputs": [
    {
     "data": {
      "application/vnd.jupyter.widget-view+json": {
       "model_id": "ec4b016c4e7c4ddeb856b0910459a32d",
       "version_major": 2,
       "version_minor": 0
      },
      "text/plain": [
       "  0%|          | 0/142 [00:00<?, ?it/s]"
      ]
     },
     "metadata": {},
     "output_type": "display_data"
    },
    {
     "data": {
      "text/html": [
       "<div>\n",
       "<style scoped>\n",
       "    .dataframe tbody tr th:only-of-type {\n",
       "        vertical-align: middle;\n",
       "    }\n",
       "\n",
       "    .dataframe tbody tr th {\n",
       "        vertical-align: top;\n",
       "    }\n",
       "\n",
       "    .dataframe thead th {\n",
       "        text-align: right;\n",
       "    }\n",
       "</style>\n",
       "<table border=\"1\" class=\"dataframe\">\n",
       "  <thead>\n",
       "    <tr style=\"text-align: right;\">\n",
       "      <th></th>\n",
       "      <th>IID</th>\n",
       "      <th>A09</th>\n",
       "      <th>C18</th>\n",
       "      <th>C34</th>\n",
       "      <th>C43</th>\n",
       "      <th>C44</th>\n",
       "      <th>C50</th>\n",
       "      <th>C67</th>\n",
       "      <th>D12</th>\n",
       "      <th>D17</th>\n",
       "      <th>...</th>\n",
       "      <th>Z01</th>\n",
       "      <th>Z03</th>\n",
       "      <th>Z08</th>\n",
       "      <th>Z09</th>\n",
       "      <th>Z12</th>\n",
       "      <th>Z42</th>\n",
       "      <th>Z43</th>\n",
       "      <th>Z45</th>\n",
       "      <th>Z47</th>\n",
       "      <th>Z53</th>\n",
       "    </tr>\n",
       "  </thead>\n",
       "  <tbody>\n",
       "  </tbody>\n",
       "</table>\n",
       "<p>0 rows × 143 columns</p>\n",
       "</div>"
      ],
      "text/plain": [
       "Empty DataFrame\n",
       "Columns: [IID, A09, C18, C34, C43, C44, C50, C67, D12, D17, D22, D23, D50, D64, G47, G56, H00, H02, H04, H25, H26, H33, H40, I20, I21, I25, I26, I47, I48, I63, I80, I83, I84, J18, J22, J32, J33, J34, J44, J45, K01, K02, K08, K13, K20, K21, K22, K25, K26, K29, K30, K31, K35, K40, K42, K43, K44, K51, K52, K56, K57, K59, K60, K62, K63, K80, K81, K85, L02, L03, L57, L72, L82, L90, L98, M06, M15, M16, M17, M19, M20, M23, M24, M25, M47, M48, M51, M54, M65, M67, M72, M75, M79, N13, N20, N23, N30, N32, N35, N39, ...]\n",
       "Index: []\n",
       "\n",
       "[0 rows x 143 columns]"
      ]
     },
     "execution_count": 10,
     "metadata": {},
     "output_type": "execute_result"
    }
   ],
   "source": [
    "phenotype_codes = relevant_icd_10_df['code'].values.tolist()\n",
    "\n",
    "X = full_df[['PC1', 'PC2', 'PC3', 'PC4', 'PC5', 'PC6', 'PC7', 'PC8', 'PC9', 'PC10', \n",
    "             'age', 'sex', 'age_squared', 'age_sex', 'age_squared_sex']]\n",
    "\n",
    "resid_df = full_df[['IID'] + phenotype_codes].copy()\n",
    "\n",
    "for phenotype_code in tqdm.notebook.tqdm(phenotype_codes):\n",
    "    reg = sm.OLS(full_df[phenotype_code].values, X)\n",
    "    res = reg.fit()\n",
    "    resid_df[phenotype_code] = res.resid\n",
    "\n",
    "resid_df.to_csv('../data/phenotypes/residualized_phenotypes.tsv.gz', sep='\\t', index=False, \n",
    "                compression='gzip')\n",
    "    \n",
    "resid_df.head(0)"
   ]
  },
  {
   "cell_type": "markdown",
   "id": "d7cf6055",
   "metadata": {},
   "source": [
    "# 4. Compute correlation between residualized phenotypes"
   ]
  },
  {
   "cell_type": "code",
   "execution_count": 11,
   "id": "a5e5e027",
   "metadata": {},
   "outputs": [],
   "source": [
    "correlation_df = (\n",
    "    resid_df\n",
    "    .drop(columns=['IID'])\n",
    "    .corr()\n",
    "    .stack()\n",
    "    .reset_index()\n",
    "    .rename(columns={'level_0': 'p1', 'level_1': 'p2', 0: 'rp'})\n",
    "    .query('p1 < p2')\n",
    ")"
   ]
  },
  {
   "cell_type": "code",
   "execution_count": 12,
   "id": "3d7c3601",
   "metadata": {},
   "outputs": [],
   "source": [
    "def normalize(values):\n",
    "    return (values - values.mean()) / values.std()"
   ]
  },
  {
   "cell_type": "code",
   "execution_count": 13,
   "id": "6d66f851",
   "metadata": {},
   "outputs": [],
   "source": [
    "covariance_df = (\n",
    "    resid_df\n",
    "    .drop(columns=['IID'])\n",
    "    .apply(normalize, axis=0)\n",
    "    .cov()\n",
    "    .stack()\n",
    "    .reset_index()\n",
    "    .rename(columns={'level_0': 'p1', 'level_1': 'p2', 0: 'cp'})\n",
    "    .query('p1 < p2')\n",
    ")"
   ]
  },
  {
   "cell_type": "code",
   "execution_count": 14,
   "id": "deb3d761",
   "metadata": {},
   "outputs": [
    {
     "data": {
      "text/html": [
       "<div>\n",
       "<style scoped>\n",
       "    .dataframe tbody tr th:only-of-type {\n",
       "        vertical-align: middle;\n",
       "    }\n",
       "\n",
       "    .dataframe tbody tr th {\n",
       "        vertical-align: top;\n",
       "    }\n",
       "\n",
       "    .dataframe thead th {\n",
       "        text-align: right;\n",
       "    }\n",
       "</style>\n",
       "<table border=\"1\" class=\"dataframe\">\n",
       "  <thead>\n",
       "    <tr style=\"text-align: right;\">\n",
       "      <th></th>\n",
       "      <th>p1</th>\n",
       "      <th>p2</th>\n",
       "      <th>rp</th>\n",
       "      <th>cp</th>\n",
       "    </tr>\n",
       "  </thead>\n",
       "  <tbody>\n",
       "    <tr>\n",
       "      <th>0</th>\n",
       "      <td>A09</td>\n",
       "      <td>C18</td>\n",
       "      <td>0.022819</td>\n",
       "      <td>0.022819</td>\n",
       "    </tr>\n",
       "    <tr>\n",
       "      <th>1</th>\n",
       "      <td>A09</td>\n",
       "      <td>C34</td>\n",
       "      <td>0.023801</td>\n",
       "      <td>0.023801</td>\n",
       "    </tr>\n",
       "  </tbody>\n",
       "</table>\n",
       "</div>"
      ],
      "text/plain": [
       "    p1   p2        rp        cp\n",
       "0  A09  C18  0.022819  0.022819\n",
       "1  A09  C34  0.023801  0.023801"
      ]
     },
     "execution_count": 14,
     "metadata": {},
     "output_type": "execute_result"
    }
   ],
   "source": [
    "phenotypic_correlation_df = correlation_df.merge(covariance_df, on=['p1', 'p2'])\n",
    "\n",
    "phenotypic_correlation_df.to_csv('../data/phenotypes_meta/phenotypic_correlation.tsv', sep='\\t', index=False)\n",
    "\n",
    "phenotypic_correlation_df.head(2)"
   ]
  }
 ],
 "metadata": {
  "kernelspec": {
   "display_name": "Python [conda env:qtp] *",
   "language": "python",
   "name": "conda-env-qtp-py"
  },
  "language_info": {
   "codemirror_mode": {
    "name": "ipython",
    "version": 3
   },
   "file_extension": ".py",
   "mimetype": "text/x-python",
   "name": "python",
   "nbconvert_exporter": "python",
   "pygments_lexer": "ipython3",
   "version": "3.9.5"
  }
 },
 "nbformat": 4,
 "nbformat_minor": 5
}
