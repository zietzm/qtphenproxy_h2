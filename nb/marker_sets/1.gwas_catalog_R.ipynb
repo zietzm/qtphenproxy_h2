{
 "cells": [
  {
   "cell_type": "markdown",
   "id": "295cb0e4",
   "metadata": {},
   "source": [
    "# Overview\n",
    "\n",
    "We want to create sets of variants that have already been identified for a number of phenotypes. \n",
    "We want variant-trait associations that satisfy:\n",
    "1. Recorded in the GWAS Catalog\n",
    "2. Associations for traits we've chosen\n",
    "3. Supported by studies that didn't use the UK Biobank as their discovery cohort\n",
    "4. Supported by studies using European data\n",
    "\n",
    "We will perform this filtering as follows:\n",
    "1. Download data on all studies in the UK Biobank\n",
    "2. Filter for studies using European ancestry individuals in the discovery cohort\n",
    "3. Filter for studies investigating one of the phenotypes we've chosen\n",
    "4. Submit a query through the PubMed API to retrieve abstracts of the studies passing the above filters. Remove any studies whose titles or abstracts mention the UK Biobank."
   ]
  },
  {
   "cell_type": "code",
   "execution_count": 1,
   "id": "b670cabf",
   "metadata": {
    "scrolled": true
   },
   "outputs": [
    {
     "name": "stderr",
     "output_type": "stream",
     "text": [
      "── \u001b[1mAttaching packages\u001b[22m ─────────────────────────────────────────────────────────── tidyverse 1.3.0 ──\n",
      "\n",
      "\u001b[32m✔\u001b[39m \u001b[34mggplot2\u001b[39m 3.3.2     \u001b[32m✔\u001b[39m \u001b[34mpurrr  \u001b[39m 0.3.4\n",
      "\u001b[32m✔\u001b[39m \u001b[34mtibble \u001b[39m 3.0.4     \u001b[32m✔\u001b[39m \u001b[34mdplyr  \u001b[39m 1.0.2\n",
      "\u001b[32m✔\u001b[39m \u001b[34mtidyr  \u001b[39m 1.1.2     \u001b[32m✔\u001b[39m \u001b[34mstringr\u001b[39m 1.4.0\n",
      "\u001b[32m✔\u001b[39m \u001b[34mreadr  \u001b[39m 1.4.0     \u001b[32m✔\u001b[39m \u001b[34mforcats\u001b[39m 0.5.0\n",
      "\n",
      "── \u001b[1mConflicts\u001b[22m ────────────────────────────────────────────────────────────── tidyverse_conflicts() ──\n",
      "\u001b[31m✖\u001b[39m \u001b[34mdplyr\u001b[39m::\u001b[32mfilter()\u001b[39m masks \u001b[34mstats\u001b[39m::filter()\n",
      "\u001b[31m✖\u001b[39m \u001b[34mdplyr\u001b[39m::\u001b[32mlag()\u001b[39m    masks \u001b[34mstats\u001b[39m::lag()\n",
      "\n"
     ]
    }
   ],
   "source": [
    "library(tidyverse)\n",
    "library(xml2)"
   ]
  },
  {
   "cell_type": "markdown",
   "id": "501155c7",
   "metadata": {},
   "source": [
    "## 1. Specify traits of interest"
   ]
  },
  {
   "cell_type": "code",
   "execution_count": 2,
   "id": "eb932012",
   "metadata": {},
   "outputs": [
    {
     "data": {
      "text/html": [
       "<table>\n",
       "<caption>A tibble: 2 × 2</caption>\n",
       "<thead>\n",
       "\t<tr><th scope=col>trait</th><th scope=col>code</th></tr>\n",
       "\t<tr><th scope=col>&lt;chr&gt;</th><th scope=col>&lt;chr&gt;</th></tr>\n",
       "</thead>\n",
       "<tbody>\n",
       "\t<tr><td>Asthma</td><td>EFO_0000270</td></tr>\n",
       "\t<tr><td>Asthma</td><td>EFO_0009759</td></tr>\n",
       "</tbody>\n",
       "</table>\n"
      ],
      "text/latex": [
       "A tibble: 2 × 2\n",
       "\\begin{tabular}{ll}\n",
       " trait & code\\\\\n",
       " <chr> & <chr>\\\\\n",
       "\\hline\n",
       "\t Asthma & EFO\\_0000270\\\\\n",
       "\t Asthma & EFO\\_0009759\\\\\n",
       "\\end{tabular}\n"
      ],
      "text/markdown": [
       "\n",
       "A tibble: 2 × 2\n",
       "\n",
       "| trait &lt;chr&gt; | code &lt;chr&gt; |\n",
       "|---|---|\n",
       "| Asthma | EFO_0000270 |\n",
       "| Asthma | EFO_0009759 |\n",
       "\n"
      ],
      "text/plain": [
       "  trait  code       \n",
       "1 Asthma EFO_0000270\n",
       "2 Asthma EFO_0009759"
      ]
     },
     "metadata": {},
     "output_type": "display_data"
    }
   ],
   "source": [
    "traits_of_interest <- list(\n",
    "    'Asthma' = 'EFO_0000270; EFO_0009759; EFO_1002011; EFO_0010638; EFO_0004591',\n",
    "    'COPD' = 'EFO_0000341; EFO_0006505; EFO_0000464',\n",
    "    'Dementia' = 'HP_0000726',\n",
    "    'All cause dementia' = 'HP_0000726; EFO_0002608; EFO_0004718; Orphanet_282; EFO_0006792',\n",
    "    'Motor neurone disease' = 'EFO_0000253; EFO_0001357',\n",
    "    'Myocardial infarction' = 'EFO_0000612',\n",
    "    'Parkinsons' = 'EFO_0002508; Orphanet_2828',\n",
    "    'Stroke' = 'EFO_0000712; EFO_1001976; HP_0002140; EFO_0005524; EFO_1001504; EFO_0005669; EFO_0010177; EFO_0010178',\n",
    "    'Ischemic stroke' = 'HP_0002140',\n",
    "    'Idiopathic pulmonary fibrosis' = 'EFO_0000768',\n",
    "    'Venous thromboembolism' = 'EFO_0004286'\n",
    ")\n",
    "\n",
    "traits_of_interest_df <- data.frame(trait = names(traits_of_interest), \n",
    "                                    code = as.character(traits_of_interest)) %>%\n",
    "    separate_rows(code, sep = '; ')\n",
    "\n",
    "traits_of_interest_df %>% head(2)"
   ]
  },
  {
   "cell_type": "markdown",
   "id": "781e8800",
   "metadata": {},
   "source": [
    "## 2. Load GWAS Catalog data"
   ]
  },
  {
   "cell_type": "code",
   "execution_count": 3,
   "id": "4a905f07",
   "metadata": {},
   "outputs": [
    {
     "name": "stderr",
     "output_type": "stream",
     "text": [
      "Warning message:\n",
      "“45 parsing failures.\n",
      "   row   col           expected actual                                                               file\n",
      "151168 STUDY delimiter or quote        '../../data/gwas_catalog_v1.0.2-associations_e104_r2021-08-16.tsv'\n",
      "151168 STUDY delimiter or quote      T '../../data/gwas_catalog_v1.0.2-associations_e104_r2021-08-16.tsv'\n",
      "151168 STUDY delimiter or quote        '../../data/gwas_catalog_v1.0.2-associations_e104_r2021-08-16.tsv'\n",
      "151168 STUDY delimiter or quote      T '../../data/gwas_catalog_v1.0.2-associations_e104_r2021-08-16.tsv'\n",
      "151168 STUDY delimiter or quote        '../../data/gwas_catalog_v1.0.2-associations_e104_r2021-08-16.tsv'\n",
      "...... ..... .................. ...... ..................................................................\n",
      "See problems(...) for more details.\n",
      "”\n"
     ]
    }
   ],
   "source": [
    "associations_df <- read_tsv(\n",
    "    '../../data/gwas_catalog_v1.0.2-associations_e104_r2021-08-16.tsv',\n",
    "    col_types = cols(.default = col_character())\n",
    ")"
   ]
  },
  {
   "cell_type": "code",
   "execution_count": 4,
   "id": "e614a5d2",
   "metadata": {},
   "outputs": [
    {
     "data": {
      "text/html": [
       "<table>\n",
       "<caption>A tibble: 2 × 12</caption>\n",
       "<thead>\n",
       "\t<tr><th scope=col>STUDY ACCESSION</th><th scope=col>PUBMEDID</th><th scope=col>FIRST AUTHOR</th><th scope=col>DATE</th><th scope=col>INITIAL SAMPLE DESCRIPTION</th><th scope=col>REPLICATION SAMPLE DESCRIPTION</th><th scope=col>STAGE</th><th scope=col>NUMBER OF INDIVDUALS</th><th scope=col>BROAD ANCESTRAL CATEGORY</th><th scope=col>COUNTRY OF ORIGIN</th><th scope=col>COUNTRY OF RECRUITMENT</th><th scope=col>ADDITONAL ANCESTRY DESCRIPTION</th></tr>\n",
       "\t<tr><th scope=col>&lt;chr&gt;</th><th scope=col>&lt;chr&gt;</th><th scope=col>&lt;chr&gt;</th><th scope=col>&lt;chr&gt;</th><th scope=col>&lt;chr&gt;</th><th scope=col>&lt;chr&gt;</th><th scope=col>&lt;chr&gt;</th><th scope=col>&lt;chr&gt;</th><th scope=col>&lt;chr&gt;</th><th scope=col>&lt;chr&gt;</th><th scope=col>&lt;chr&gt;</th><th scope=col>&lt;chr&gt;</th></tr>\n",
       "</thead>\n",
       "<tbody>\n",
       "\t<tr><td>GCST000176</td><td>18391950</td><td>Lettre G</td><td>2008-04-06</td><td>15,821 European ancestry individuals</td><td>Up to 17,801 European ancestry individuals</td><td>initial    </td><td>15821</td><td>European</td><td>NR</td><td>Finland, Sweden, U.S., Italy, Germany</td><td>NA</td></tr>\n",
       "\t<tr><td>GCST000176</td><td>18391950</td><td>Lettre G</td><td>2008-04-06</td><td>15,821 European ancestry individuals</td><td>Up to 17,801 European ancestry individuals</td><td>replication</td><td>17801</td><td>European</td><td>NR</td><td>Finland, U.S., Germany               </td><td>NA</td></tr>\n",
       "</tbody>\n",
       "</table>\n"
      ],
      "text/latex": [
       "A tibble: 2 × 12\n",
       "\\begin{tabular}{llllllllllll}\n",
       " STUDY ACCESSION & PUBMEDID & FIRST AUTHOR & DATE & INITIAL SAMPLE DESCRIPTION & REPLICATION SAMPLE DESCRIPTION & STAGE & NUMBER OF INDIVDUALS & BROAD ANCESTRAL CATEGORY & COUNTRY OF ORIGIN & COUNTRY OF RECRUITMENT & ADDITONAL ANCESTRY DESCRIPTION\\\\\n",
       " <chr> & <chr> & <chr> & <chr> & <chr> & <chr> & <chr> & <chr> & <chr> & <chr> & <chr> & <chr>\\\\\n",
       "\\hline\n",
       "\t GCST000176 & 18391950 & Lettre G & 2008-04-06 & 15,821 European ancestry individuals & Up to 17,801 European ancestry individuals & initial     & 15821 & European & NR & Finland, Sweden, U.S., Italy, Germany & NA\\\\\n",
       "\t GCST000176 & 18391950 & Lettre G & 2008-04-06 & 15,821 European ancestry individuals & Up to 17,801 European ancestry individuals & replication & 17801 & European & NR & Finland, U.S., Germany                & NA\\\\\n",
       "\\end{tabular}\n"
      ],
      "text/markdown": [
       "\n",
       "A tibble: 2 × 12\n",
       "\n",
       "| STUDY ACCESSION &lt;chr&gt; | PUBMEDID &lt;chr&gt; | FIRST AUTHOR &lt;chr&gt; | DATE &lt;chr&gt; | INITIAL SAMPLE DESCRIPTION &lt;chr&gt; | REPLICATION SAMPLE DESCRIPTION &lt;chr&gt; | STAGE &lt;chr&gt; | NUMBER OF INDIVDUALS &lt;chr&gt; | BROAD ANCESTRAL CATEGORY &lt;chr&gt; | COUNTRY OF ORIGIN &lt;chr&gt; | COUNTRY OF RECRUITMENT &lt;chr&gt; | ADDITONAL ANCESTRY DESCRIPTION &lt;chr&gt; |\n",
       "|---|---|---|---|---|---|---|---|---|---|---|---|\n",
       "| GCST000176 | 18391950 | Lettre G | 2008-04-06 | 15,821 European ancestry individuals | Up to 17,801 European ancestry individuals | initial     | 15821 | European | NR | Finland, Sweden, U.S., Italy, Germany | NA |\n",
       "| GCST000176 | 18391950 | Lettre G | 2008-04-06 | 15,821 European ancestry individuals | Up to 17,801 European ancestry individuals | replication | 17801 | European | NR | Finland, U.S., Germany                | NA |\n",
       "\n"
      ],
      "text/plain": [
       "  STUDY ACCESSION PUBMEDID FIRST AUTHOR DATE      \n",
       "1 GCST000176      18391950 Lettre G     2008-04-06\n",
       "2 GCST000176      18391950 Lettre G     2008-04-06\n",
       "  INITIAL SAMPLE DESCRIPTION          \n",
       "1 15,821 European ancestry individuals\n",
       "2 15,821 European ancestry individuals\n",
       "  REPLICATION SAMPLE DESCRIPTION             STAGE       NUMBER OF INDIVDUALS\n",
       "1 Up to 17,801 European ancestry individuals initial     15821               \n",
       "2 Up to 17,801 European ancestry individuals replication 17801               \n",
       "  BROAD ANCESTRAL CATEGORY COUNTRY OF ORIGIN\n",
       "1 European                 NR               \n",
       "2 European                 NR               \n",
       "  COUNTRY OF RECRUITMENT                ADDITONAL ANCESTRY DESCRIPTION\n",
       "1 Finland, Sweden, U.S., Italy, Germany NA                            \n",
       "2 Finland, U.S., Germany                NA                            "
      ]
     },
     "metadata": {},
     "output_type": "display_data"
    }
   ],
   "source": [
    "ancestry_df <- read_tsv('../../data/gwas_catalog-ancestry_r2021-08-16.tsv', \n",
    "                        col_types = cols(`.default` = col_character()))\n",
    "\n",
    "ancestry_df %>% head(2)"
   ]
  },
  {
   "cell_type": "markdown",
   "id": "d4b1a1fb",
   "metadata": {},
   "source": [
    "## 3. Filter associations for relevant traits and cohorts of European ancestry"
   ]
  },
  {
   "cell_type": "code",
   "execution_count": 5,
   "id": "14262221",
   "metadata": {},
   "outputs": [
    {
     "data": {
      "text/html": [
       "<table>\n",
       "<caption>A tibble: 2 × 9</caption>\n",
       "<thead>\n",
       "\t<tr><th scope=col>MAPPED_TRAIT</th><th scope=col>STUDY ACCESSION</th><th scope=col>PUBMEDID</th><th scope=col>INITIAL SAMPLE SIZE</th><th scope=col>SNPS</th><th scope=col>SNP_ID_CURRENT</th><th scope=col>P-VALUE</th><th scope=col>code</th><th scope=col>trait</th></tr>\n",
       "\t<tr><th scope=col>&lt;chr&gt;</th><th scope=col>&lt;chr&gt;</th><th scope=col>&lt;chr&gt;</th><th scope=col>&lt;chr&gt;</th><th scope=col>&lt;chr&gt;</th><th scope=col>&lt;chr&gt;</th><th scope=col>&lt;chr&gt;</th><th scope=col>&lt;chr&gt;</th><th scope=col>&lt;chr&gt;</th></tr>\n",
       "</thead>\n",
       "<tbody>\n",
       "\t<tr><td>asthma                       </td><td>GCST000389</td><td>19426955</td><td>359 European ancestry cases, 846 European ancestry controls    </td><td>rs1588265</td><td>1588265</td><td>3E-8</td><td>EFO_0000270</td><td>Asthma               </td></tr>\n",
       "\t<tr><td>amyotrophic lateral sclerosis</td><td>GCST000820</td><td>20801717</td><td>4,857 European ancestry cases, 8,987 European ancestry controls</td><td>rs4799088</td><td>4799088</td><td>9E-6</td><td>EFO_0000253</td><td>Motor neurone disease</td></tr>\n",
       "</tbody>\n",
       "</table>\n"
      ],
      "text/latex": [
       "A tibble: 2 × 9\n",
       "\\begin{tabular}{lllllllll}\n",
       " MAPPED\\_TRAIT & STUDY ACCESSION & PUBMEDID & INITIAL SAMPLE SIZE & SNPS & SNP\\_ID\\_CURRENT & P-VALUE & code & trait\\\\\n",
       " <chr> & <chr> & <chr> & <chr> & <chr> & <chr> & <chr> & <chr> & <chr>\\\\\n",
       "\\hline\n",
       "\t asthma                        & GCST000389 & 19426955 & 359 European ancestry cases, 846 European ancestry controls     & rs1588265 & 1588265 & 3E-8 & EFO\\_0000270 & Asthma               \\\\\n",
       "\t amyotrophic lateral sclerosis & GCST000820 & 20801717 & 4,857 European ancestry cases, 8,987 European ancestry controls & rs4799088 & 4799088 & 9E-6 & EFO\\_0000253 & Motor neurone disease\\\\\n",
       "\\end{tabular}\n"
      ],
      "text/markdown": [
       "\n",
       "A tibble: 2 × 9\n",
       "\n",
       "| MAPPED_TRAIT &lt;chr&gt; | STUDY ACCESSION &lt;chr&gt; | PUBMEDID &lt;chr&gt; | INITIAL SAMPLE SIZE &lt;chr&gt; | SNPS &lt;chr&gt; | SNP_ID_CURRENT &lt;chr&gt; | P-VALUE &lt;chr&gt; | code &lt;chr&gt; | trait &lt;chr&gt; |\n",
       "|---|---|---|---|---|---|---|---|---|\n",
       "| asthma                        | GCST000389 | 19426955 | 359 European ancestry cases, 846 European ancestry controls     | rs1588265 | 1588265 | 3E-8 | EFO_0000270 | Asthma                |\n",
       "| amyotrophic lateral sclerosis | GCST000820 | 20801717 | 4,857 European ancestry cases, 8,987 European ancestry controls | rs4799088 | 4799088 | 9E-6 | EFO_0000253 | Motor neurone disease |\n",
       "\n"
      ],
      "text/plain": [
       "  MAPPED_TRAIT                  STUDY ACCESSION PUBMEDID\n",
       "1 asthma                        GCST000389      19426955\n",
       "2 amyotrophic lateral sclerosis GCST000820      20801717\n",
       "  INITIAL SAMPLE SIZE                                             SNPS     \n",
       "1 359 European ancestry cases, 846 European ancestry controls     rs1588265\n",
       "2 4,857 European ancestry cases, 8,987 European ancestry controls rs4799088\n",
       "  SNP_ID_CURRENT P-VALUE code        trait                \n",
       "1 1588265        3E-8    EFO_0000270 Asthma               \n",
       "2 4799088        9E-6    EFO_0000253 Motor neurone disease"
      ]
     },
     "metadata": {},
     "output_type": "display_data"
    }
   ],
   "source": [
    "# Filter for all relevant associations\n",
    "relevant_associations_df <- associations_df %>% \n",
    "    select(MAPPED_TRAIT, MAPPED_TRAIT_URI, `STUDY ACCESSION`, PUBMEDID, `INITIAL SAMPLE SIZE`, \n",
    "           SNPS, SNP_ID_CURRENT, `P-VALUE`) %>%\n",
    "    # Some associations are reported for multiple traits in one row. Separate to filter \n",
    "    # for traits relevant to the current work\n",
    "    separate_rows(MAPPED_TRAIT_URI, sep = ', ') %>%\n",
    "    mutate(code = str_extract(MAPPED_TRAIT_URI, '(?<=/)[A-Za-z0-9_]+$')) %>%\n",
    "    select(-MAPPED_TRAIT_URI) %>%\n",
    "    right_join(traits_of_interest_df, by = 'code')\n",
    "\n",
    "relevant_associations_df %>% head(2)"
   ]
  },
  {
   "cell_type": "code",
   "execution_count": 6,
   "id": "c7c331c9",
   "metadata": {},
   "outputs": [
    {
     "data": {
      "text/html": [
       "15200"
      ],
      "text/latex": [
       "15200"
      ],
      "text/markdown": [
       "15200"
      ],
      "text/plain": [
       "[1] 15200"
      ]
     },
     "metadata": {},
     "output_type": "display_data"
    },
    {
     "data": {
      "text/html": [
       "15200"
      ],
      "text/latex": [
       "15200"
      ],
      "text/markdown": [
       "15200"
      ],
      "text/plain": [
       "[1] 15200"
      ]
     },
     "metadata": {},
     "output_type": "display_data"
    },
    {
     "data": {
      "text/html": [
       "3622"
      ],
      "text/latex": [
       "3622"
      ],
      "text/markdown": [
       "3622"
      ],
      "text/plain": [
       "[1] 3622"
      ]
     },
     "metadata": {},
     "output_type": "display_data"
    }
   ],
   "source": [
    "european_studies_df <- ancestry_df %>% \n",
    "    filter(`BROAD ANCESTRAL CATEGORY` == 'European', STAGE == 'initial') %>%\n",
    "    distinct(`STUDY ACCESSION`, PUBMEDID)\n",
    "\n",
    "european_studies_df %>% nrow\n",
    "\n",
    "european_studies_df %>% distinct(`STUDY ACCESSION`) %>% nrow\n",
    "\n",
    "european_studies_df %>% distinct(`PUBMEDID`) %>% nrow\n",
    "\n",
    "potential_studies_df <- european_studies_df %>% \n",
    "    inner_join(relevant_associations_df, by = c('STUDY ACCESSION', 'PUBMEDID'))"
   ]
  },
  {
   "cell_type": "markdown",
   "id": "f1896af2",
   "metadata": {},
   "source": [
    "## 4. Remove studies using the UK Biobank\n",
    "\n",
    "Use PubMed API to pull abstracts for all potential studies, removing those that contain \"UK Biobank\"."
   ]
  },
  {
   "cell_type": "code",
   "execution_count": 7,
   "id": "9522c87f",
   "metadata": {},
   "outputs": [
    {
     "data": {
      "text/html": [
       "129"
      ],
      "text/latex": [
       "129"
      ],
      "text/markdown": [
       "129"
      ],
      "text/plain": [
       "[1] 129"
      ]
     },
     "metadata": {},
     "output_type": "display_data"
    },
    {
     "data": {
      "text/html": [
       "'https://eutils.ncbi.nlm.nih.gov/entrez/eutils/efetch.fcgi?db=pubmed&amp;id=19426955,20801717,19369658,19300482,20159242,19278955,20032318,21292315,20709820,21239051,17362836,18057069,21084426,18987618,18991354,22538805,17434096,19734901,17827064,19915575,20711177,17052657,17478679,16252231,19198609,18985386,20070850,20801718,21150878,22959728,22306652,22990015,21738487,23509962,23028483,23041239,22451204,22080838,20173748,23650146,22470424,22561531,26950853,26913989,26908601,26708676,27997041,27402877,26343387,26516778,26154020,26620591,27182965,27790247,28322283,31755958,30456811,32201043,23181788,19772629,21804549,24429156,25772935,25918132,25101718,24511991,24486069,24383474,25064009,24656865,24388013,25442119,24621683,24824216,24931836,17611496,24241537,24993907,23144326,25663231,24256812,21044948,22658654,18084291,22560479,22628157,21907864,21812969,21980494,23793441,23829686,24943344,30976013,31420334,31676865,31701892,31710517,31660654,29724592,31361310,28256260,28128768,28373160,26732560,25241909,27068588,28011674,29066090,28166215,28931804,29263008,29273806,27455348,28892059,27611488,26542096,29531354,31473137,29915124,29785011,27244217,31430377,27130862,31619474,30578877,31379025,30338293,33592630,31669095&amp;rettype=Abstract'"
      ],
      "text/latex": [
       "'https://eutils.ncbi.nlm.nih.gov/entrez/eutils/efetch.fcgi?db=pubmed\\&id=19426955,20801717,19369658,19300482,20159242,19278955,20032318,21292315,20709820,21239051,17362836,18057069,21084426,18987618,18991354,22538805,17434096,19734901,17827064,19915575,20711177,17052657,17478679,16252231,19198609,18985386,20070850,20801718,21150878,22959728,22306652,22990015,21738487,23509962,23028483,23041239,22451204,22080838,20173748,23650146,22470424,22561531,26950853,26913989,26908601,26708676,27997041,27402877,26343387,26516778,26154020,26620591,27182965,27790247,28322283,31755958,30456811,32201043,23181788,19772629,21804549,24429156,25772935,25918132,25101718,24511991,24486069,24383474,25064009,24656865,24388013,25442119,24621683,24824216,24931836,17611496,24241537,24993907,23144326,25663231,24256812,21044948,22658654,18084291,22560479,22628157,21907864,21812969,21980494,23793441,23829686,24943344,30976013,31420334,31676865,31701892,31710517,31660654,29724592,31361310,28256260,28128768,28373160,26732560,25241909,27068588,28011674,29066090,28166215,28931804,29263008,29273806,27455348,28892059,27611488,26542096,29531354,31473137,29915124,29785011,27244217,31430377,27130862,31619474,30578877,31379025,30338293,33592630,31669095\\&rettype=Abstract'"
      ],
      "text/markdown": [
       "'https://eutils.ncbi.nlm.nih.gov/entrez/eutils/efetch.fcgi?db=pubmed&amp;id=19426955,20801717,19369658,19300482,20159242,19278955,20032318,21292315,20709820,21239051,17362836,18057069,21084426,18987618,18991354,22538805,17434096,19734901,17827064,19915575,20711177,17052657,17478679,16252231,19198609,18985386,20070850,20801718,21150878,22959728,22306652,22990015,21738487,23509962,23028483,23041239,22451204,22080838,20173748,23650146,22470424,22561531,26950853,26913989,26908601,26708676,27997041,27402877,26343387,26516778,26154020,26620591,27182965,27790247,28322283,31755958,30456811,32201043,23181788,19772629,21804549,24429156,25772935,25918132,25101718,24511991,24486069,24383474,25064009,24656865,24388013,25442119,24621683,24824216,24931836,17611496,24241537,24993907,23144326,25663231,24256812,21044948,22658654,18084291,22560479,22628157,21907864,21812969,21980494,23793441,23829686,24943344,30976013,31420334,31676865,31701892,31710517,31660654,29724592,31361310,28256260,28128768,28373160,26732560,25241909,27068588,28011674,29066090,28166215,28931804,29263008,29273806,27455348,28892059,27611488,26542096,29531354,31473137,29915124,29785011,27244217,31430377,27130862,31619474,30578877,31379025,30338293,33592630,31669095&amp;rettype=Abstract'"
      ],
      "text/plain": [
       "https://eutils.ncbi.nlm.nih.gov/entrez/eutils/efetch.fcgi?db=pubmed&id=19426955,20801717,19369658,19300482,20159242,19278955,20032318,21292315,20709820,21239051,17362836,18057069,21084426,18987618,18991354,22538805,17434096,19734901,17827064,19915575,20711177,17052657,17478679,16252231,19198609,18985386,20070850,20801718,21150878,22959728,22306652,22990015,21738487,23509962,23028483,23041239,22451204,22080838,20173748,23650146,22470424,22561531,26950853,26913989,26908601,26708676,27997041,27402877,26343387,26516778,26154020,26620591,27182965,27790247,28322283,31755958,30456811,32201043,23181788,19772629,21804549,24429156,25772935,25918132,25101718,24511991,24486069,24383474,25064009,24656865,24388013,25442119,24621683,24824216,24931836,17611496,24241537,24993907,23144326,25663231,24256812,21044948,22658654,18084291,22560479,22628157,21907864,21812969,21980494,23793441,23829686,24943344,30976013,31420334,31676865,31701892,31710517,31660654,29724592,31361310,28256260,28128768,28373160,26732560,25241909,27068588,28011674,29066090,28166215,28931804,29263008,29273806,27455348,28892059,27611488,26542096,29531354,31473137,29915124,29785011,27244217,31430377,27130862,31619474,30578877,31379025,30338293,33592630,31669095&rettype=Abstract"
      ]
     },
     "metadata": {},
     "output_type": "display_data"
    }
   ],
   "source": [
    "pubmed_ids <- potential_studies_df %>% \n",
    "    distinct(`PUBMEDID`) %>%\n",
    "    pull %>%\n",
    "    paste(collapse = ',')\n",
    "\n",
    "potential_studies_df %>% distinct(`PUBMEDID`) %>% nrow\n",
    "\n",
    "url <- str_glue('https://eutils.ncbi.nlm.nih.gov/entrez/eutils/efetch.fcgi?db=pubmed&id={pubmed_ids}&rettype=Abstract')\n",
    "url\n",
    "\n",
    "r <- httr::GET(url)\n",
    "\n",
    "p <- httr::content(r, 'parsed')\n",
    "\n",
    "articles <- xml_children(p)"
   ]
  },
  {
   "cell_type": "code",
   "execution_count": 8,
   "id": "2fe570f5",
   "metadata": {},
   "outputs": [
    {
     "data": {
      "text/html": [
       "129"
      ],
      "text/latex": [
       "129"
      ],
      "text/markdown": [
       "129"
      ],
      "text/plain": [
       "[1] 129"
      ]
     },
     "metadata": {},
     "output_type": "display_data"
    },
    {
     "data": {
      "text/html": [
       "8"
      ],
      "text/latex": [
       "8"
      ],
      "text/markdown": [
       "8"
      ],
      "text/plain": [
       "[1] 8"
      ]
     },
     "metadata": {},
     "output_type": "display_data"
    }
   ],
   "source": [
    "pmids <- c()\n",
    "titles <- c()\n",
    "abstracts <- c()\n",
    "\n",
    "for (article in articles) {\n",
    "    pmid <- article %>% \n",
    "        xml_find_all('.//PMID') %>% \n",
    "        map_chr(xml_text) %>% \n",
    "        paste(collapse = ';')\n",
    "    pmids <- append(pmids, pmid)\n",
    "    \n",
    "    title <- article %>% \n",
    "        xml_find_all('.//ArticleTitle') %>% \n",
    "        map_chr(xml_text) %>% \n",
    "        paste(collapse = ' ')\n",
    "    titles <- append(titles, title)\n",
    "    \n",
    "    abstract <- article %>% \n",
    "        xml_find_all('.//AbstractText') %>% \n",
    "        map_chr(xml_text) %>% \n",
    "        paste(collapse = ' ')\n",
    "    abstracts <- append(abstracts, abstract)\n",
    "}\n",
    "\n",
    "abstracts_df <- data.frame(pmids, titles, abstracts) %>% \n",
    "    mutate(\n",
    "        ukb = str_detect(abstracts, regex('uk biobank', ignore_case = T)) |\n",
    "              str_detect(titles, regex('uk biobank', ignore_case = T))\n",
    "    )\n",
    "\n",
    "# Number of studies in total\n",
    "abstracts_df %>% nrow\n",
    "\n",
    "# Number of studies referencing the UK Biobank (these will be removed)\n",
    "abstracts_df %>% filter(ukb) %>% nrow"
   ]
  },
  {
   "cell_type": "code",
   "execution_count": 9,
   "id": "d2a1c064",
   "metadata": {},
   "outputs": [
    {
     "data": {
      "text/html": [
       "<table>\n",
       "<caption>A tibble: 2 × 7</caption>\n",
       "<thead>\n",
       "\t<tr><th scope=col>trait</th><th scope=col>MAPPED_TRAIT</th><th scope=col>code</th><th scope=col>STUDY ACCESSION</th><th scope=col>pmids</th><th scope=col>SNP_ID_CURRENT</th><th scope=col>P-VALUE</th></tr>\n",
       "\t<tr><th scope=col>&lt;chr&gt;</th><th scope=col>&lt;chr&gt;</th><th scope=col>&lt;chr&gt;</th><th scope=col>&lt;chr&gt;</th><th scope=col>&lt;chr&gt;</th><th scope=col>&lt;chr&gt;</th><th scope=col>&lt;chr&gt;</th></tr>\n",
       "</thead>\n",
       "<tbody>\n",
       "\t<tr><td>Asthma               </td><td>asthma                       </td><td>EFO_0000270</td><td>GCST000389</td><td>19426955</td><td>1588265</td><td>3E-8</td></tr>\n",
       "\t<tr><td>Motor neurone disease</td><td>amyotrophic lateral sclerosis</td><td>EFO_0000253</td><td>GCST000820</td><td>20801717</td><td>4799088</td><td>9E-6</td></tr>\n",
       "</tbody>\n",
       "</table>\n"
      ],
      "text/latex": [
       "A tibble: 2 × 7\n",
       "\\begin{tabular}{lllllll}\n",
       " trait & MAPPED\\_TRAIT & code & STUDY ACCESSION & pmids & SNP\\_ID\\_CURRENT & P-VALUE\\\\\n",
       " <chr> & <chr> & <chr> & <chr> & <chr> & <chr> & <chr>\\\\\n",
       "\\hline\n",
       "\t Asthma                & asthma                        & EFO\\_0000270 & GCST000389 & 19426955 & 1588265 & 3E-8\\\\\n",
       "\t Motor neurone disease & amyotrophic lateral sclerosis & EFO\\_0000253 & GCST000820 & 20801717 & 4799088 & 9E-6\\\\\n",
       "\\end{tabular}\n"
      ],
      "text/markdown": [
       "\n",
       "A tibble: 2 × 7\n",
       "\n",
       "| trait &lt;chr&gt; | MAPPED_TRAIT &lt;chr&gt; | code &lt;chr&gt; | STUDY ACCESSION &lt;chr&gt; | pmids &lt;chr&gt; | SNP_ID_CURRENT &lt;chr&gt; | P-VALUE &lt;chr&gt; |\n",
       "|---|---|---|---|---|---|---|\n",
       "| Asthma                | asthma                        | EFO_0000270 | GCST000389 | 19426955 | 1588265 | 3E-8 |\n",
       "| Motor neurone disease | amyotrophic lateral sclerosis | EFO_0000253 | GCST000820 | 20801717 | 4799088 | 9E-6 |\n",
       "\n"
      ],
      "text/plain": [
       "  trait                 MAPPED_TRAIT                  code       \n",
       "1 Asthma                asthma                        EFO_0000270\n",
       "2 Motor neurone disease amyotrophic lateral sclerosis EFO_0000253\n",
       "  STUDY ACCESSION pmids    SNP_ID_CURRENT P-VALUE\n",
       "1 GCST000389      19426955 1588265        3E-8   \n",
       "2 GCST000820      20801717 4799088        9E-6   "
      ]
     },
     "metadata": {},
     "output_type": "display_data"
    }
   ],
   "source": [
    "# Only associations for relevant traits and from relevant studies\n",
    "markers_df <- abstracts_df %>%\n",
    "    filter(!ukb) %>%\n",
    "    separate_rows(pmids, sep = ';') %>%\n",
    "    distinct(pmids) %>%\n",
    "    inner_join(relevant_associations_df, by = c('pmids' = 'PUBMEDID')) %>%\n",
    "    # SNPS not NA but SNP_ID_CURRENT is NA indicates haplotype not individual SNP\n",
    "    filter(!is.na(SNP_ID_CURRENT)) %>%\n",
    "    select(trait, MAPPED_TRAIT, code, `STUDY ACCESSION`, pmids, SNP_ID_CURRENT, `P-VALUE`)\n",
    "\n",
    "markers_df %>% head(2)"
   ]
  },
  {
   "cell_type": "markdown",
   "id": "10db2b1d",
   "metadata": {},
   "source": [
    "## 5. Summarize markers for each trait"
   ]
  },
  {
   "cell_type": "code",
   "execution_count": 10,
   "id": "34587baf",
   "metadata": {},
   "outputs": [
    {
     "data": {
      "text/html": [
       "<table>\n",
       "<caption>A tibble: 10 × 2</caption>\n",
       "<thead>\n",
       "\t<tr><th scope=col>trait</th><th scope=col>n_snps</th></tr>\n",
       "\t<tr><th scope=col>&lt;chr&gt;</th><th scope=col>&lt;int&gt;</th></tr>\n",
       "</thead>\n",
       "<tbody>\n",
       "\t<tr><td>All cause dementia           </td><td> 68</td></tr>\n",
       "\t<tr><td>Asthma                       </td><td>451</td></tr>\n",
       "\t<tr><td>COPD                         </td><td>107</td></tr>\n",
       "\t<tr><td>Idiopathic pulmonary fibrosis</td><td> 21</td></tr>\n",
       "\t<tr><td>Ischemic stroke              </td><td> 63</td></tr>\n",
       "\t<tr><td>Motor neurone disease        </td><td> 79</td></tr>\n",
       "\t<tr><td>Myocardial infarction        </td><td> 53</td></tr>\n",
       "\t<tr><td>Parkinsons                   </td><td>215</td></tr>\n",
       "\t<tr><td>Stroke                       </td><td>200</td></tr>\n",
       "\t<tr><td>Venous thromboembolism       </td><td>176</td></tr>\n",
       "</tbody>\n",
       "</table>\n"
      ],
      "text/latex": [
       "A tibble: 10 × 2\n",
       "\\begin{tabular}{ll}\n",
       " trait & n\\_snps\\\\\n",
       " <chr> & <int>\\\\\n",
       "\\hline\n",
       "\t All cause dementia            &  68\\\\\n",
       "\t Asthma                        & 451\\\\\n",
       "\t COPD                          & 107\\\\\n",
       "\t Idiopathic pulmonary fibrosis &  21\\\\\n",
       "\t Ischemic stroke               &  63\\\\\n",
       "\t Motor neurone disease         &  79\\\\\n",
       "\t Myocardial infarction         &  53\\\\\n",
       "\t Parkinsons                    & 215\\\\\n",
       "\t Stroke                        & 200\\\\\n",
       "\t Venous thromboembolism        & 176\\\\\n",
       "\\end{tabular}\n"
      ],
      "text/markdown": [
       "\n",
       "A tibble: 10 × 2\n",
       "\n",
       "| trait &lt;chr&gt; | n_snps &lt;int&gt; |\n",
       "|---|---|\n",
       "| All cause dementia            |  68 |\n",
       "| Asthma                        | 451 |\n",
       "| COPD                          | 107 |\n",
       "| Idiopathic pulmonary fibrosis |  21 |\n",
       "| Ischemic stroke               |  63 |\n",
       "| Motor neurone disease         |  79 |\n",
       "| Myocardial infarction         |  53 |\n",
       "| Parkinsons                    | 215 |\n",
       "| Stroke                        | 200 |\n",
       "| Venous thromboembolism        | 176 |\n",
       "\n"
      ],
      "text/plain": [
       "   trait                         n_snps\n",
       "1  All cause dementia             68   \n",
       "2  Asthma                        451   \n",
       "3  COPD                          107   \n",
       "4  Idiopathic pulmonary fibrosis  21   \n",
       "5  Ischemic stroke                63   \n",
       "6  Motor neurone disease          79   \n",
       "7  Myocardial infarction          53   \n",
       "8  Parkinsons                    215   \n",
       "9  Stroke                        200   \n",
       "10 Venous thromboembolism        176   "
      ]
     },
     "metadata": {},
     "output_type": "display_data"
    }
   ],
   "source": [
    "markers_df %>%\n",
    "    group_by(trait) %>%\n",
    "    summarize(n_snps = n_distinct(SNP_ID_CURRENT, na.rm = T), .groups = 'drop')"
   ]
  },
  {
   "cell_type": "code",
   "execution_count": 11,
   "id": "93f4bcbd",
   "metadata": {},
   "outputs": [
    {
     "data": {
      "text/html": [
       "<table>\n",
       "<caption>A tibble: 67 × 4</caption>\n",
       "<thead>\n",
       "\t<tr><th scope=col>trait</th><th scope=col>MAPPED_TRAIT</th><th scope=col>n_trait_snps</th><th scope=col>n_mapped_trait_snps</th></tr>\n",
       "\t<tr><th scope=col>&lt;chr&gt;</th><th scope=col>&lt;chr&gt;</th><th scope=col>&lt;int&gt;</th><th scope=col>&lt;int&gt;</th></tr>\n",
       "</thead>\n",
       "<tbody>\n",
       "\t<tr><td>All cause dementia</td><td>age at onset, Frontotemporal dementia                                                                                              </td><td> 68</td><td>  8</td></tr>\n",
       "\t<tr><td>All cause dementia</td><td>AIDS dementia                                                                                                                      </td><td> 68</td><td>  4</td></tr>\n",
       "\t<tr><td>All cause dementia</td><td>Alzheimer's disease, vascular dementia                                                                                             </td><td> 68</td><td>  2</td></tr>\n",
       "\t<tr><td>All cause dementia</td><td>amyotrophic lateral sclerosis, Frontotemporal dementia                                                                             </td><td> 68</td><td>  1</td></tr>\n",
       "\t<tr><td>All cause dementia</td><td>brain infarction, neuritic plaque measurement, Lewy body dementia, cerebral amyloid angiopathy, neurofibrillary tangles measurement</td><td> 68</td><td> 17</td></tr>\n",
       "\t<tr><td>All cause dementia</td><td>Frontotemporal dementia                                                                                                            </td><td> 68</td><td> 21</td></tr>\n",
       "\t<tr><td>All cause dementia</td><td>Lewy body dementia                                                                                                                 </td><td> 68</td><td> 17</td></tr>\n",
       "\t<tr><td>Asthma            </td><td>age at onset, asthma                                                                                                               </td><td>451</td><td> 10</td></tr>\n",
       "\t<tr><td>Asthma            </td><td>asthma                                                                                                                             </td><td>451</td><td>179</td></tr>\n",
       "\t<tr><td>Asthma            </td><td>asthma, traffic air pollution measurement                                                                                          </td><td>451</td><td>  5</td></tr>\n",
       "\t<tr><td>Asthma            </td><td>childhood onset asthma                                                                                                             </td><td>451</td><td> 35</td></tr>\n",
       "\t<tr><td>Asthma            </td><td>childhood onset asthma, age at onset                                                                                               </td><td>451</td><td>  2</td></tr>\n",
       "\t<tr><td>Asthma            </td><td>childhood onset asthma, age at onset, environmental tobacco smoke exposure measurement                                             </td><td>451</td><td>  4</td></tr>\n",
       "\t<tr><td>Asthma            </td><td>childhood onset asthma, atopic eczema, atopic march                                                                                </td><td>451</td><td>  7</td></tr>\n",
       "\t<tr><td>Asthma            </td><td>chronic obstructive pulmonary disease, asthma                                                                                      </td><td>451</td><td>  3</td></tr>\n",
       "\t<tr><td>Asthma            </td><td>Hispanic or Latin American, asthma                                                                                                 </td><td>451</td><td>  4</td></tr>\n",
       "\t<tr><td>Asthma            </td><td>response to corticosteroid, asthma                                                                                                 </td><td>451</td><td>  2</td></tr>\n",
       "\t<tr><td>Asthma            </td><td>response to diisocyanate, asthma                                                                                                   </td><td>451</td><td>180</td></tr>\n",
       "\t<tr><td>Asthma            </td><td>seasonal allergic rhinitis, asthma                                                                                                 </td><td>451</td><td> 21</td></tr>\n",
       "\t<tr><td>Asthma            </td><td>sex interaction measurement, asthma                                                                                                </td><td>451</td><td>  6</td></tr>\n",
       "\t<tr><td>COPD              </td><td>chronic bronchitis                                                                                                                 </td><td>107</td><td>  1</td></tr>\n",
       "\t<tr><td>COPD              </td><td>chronic obstructive pulmonary disease                                                                                              </td><td>107</td><td> 53</td></tr>\n",
       "\t<tr><td>COPD              </td><td>chronic obstructive pulmonary disease, asthma                                                                                      </td><td>107</td><td>  3</td></tr>\n",
       "\t<tr><td>COPD              </td><td>chronic obstructive pulmonary disease, C-reactive protein measurement                                                              </td><td>107</td><td>  2</td></tr>\n",
       "\t<tr><td>COPD              </td><td>chronic obstructive pulmonary disease, CC16 measurement                                                                            </td><td>107</td><td>  5</td></tr>\n",
       "\t<tr><td>COPD              </td><td>chronic obstructive pulmonary disease, chronic bronchitis                                                                          </td><td>107</td><td>  9</td></tr>\n",
       "\t<tr><td>COPD              </td><td>chronic obstructive pulmonary disease, fibrinogen measurement                                                                      </td><td>107</td><td>  3</td></tr>\n",
       "\t<tr><td>COPD              </td><td>chronic obstructive pulmonary disease, interleukin-8 measurement                                                                   </td><td>107</td><td>  4</td></tr>\n",
       "\t<tr><td>COPD              </td><td>chronic obstructive pulmonary disease, surfactant protein D measurement                                                            </td><td>107</td><td> 12</td></tr>\n",
       "\t<tr><td>COPD              </td><td>emphysema                                                                                                                          </td><td>107</td><td> 10</td></tr>\n",
       "\t<tr><td>⋮</td><td>⋮</td><td>⋮</td><td>⋮</td></tr>\n",
       "\t<tr><td>Ischemic stroke       </td><td>Ischemic stroke, small artery occlusion                                                                                                                                                                                                                                                                                                                </td><td> 63</td><td>  1</td></tr>\n",
       "\t<tr><td>Ischemic stroke       </td><td>Ischemic stroke, venous thromboembolism, stroke, Abnormal thrombosis, deep vein thrombosis, pulmonary embolism                                                                                                                                                                                                                                         </td><td> 63</td><td> 13</td></tr>\n",
       "\t<tr><td>Motor neurone disease </td><td>amyotrophic lateral sclerosis                                                                                                                                                                                                                                                                                                                          </td><td> 79</td><td> 57</td></tr>\n",
       "\t<tr><td>Motor neurone disease </td><td>amyotrophic lateral sclerosis, age at onset                                                                                                                                                                                                                                                                                                            </td><td> 79</td><td> 13</td></tr>\n",
       "\t<tr><td>Motor neurone disease </td><td>amyotrophic lateral sclerosis, Frontotemporal dementia                                                                                                                                                                                                                                                                                                 </td><td> 79</td><td>  1</td></tr>\n",
       "\t<tr><td>Motor neurone disease </td><td>sporadic amyotrophic lateral sclerosis                                                                                                                                                                                                                                                                                                                 </td><td> 79</td><td>  7</td></tr>\n",
       "\t<tr><td>Motor neurone disease </td><td>sporadic amyotrophic lateral sclerosis, survival time                                                                                                                                                                                                                                                                                                  </td><td> 79</td><td>  6</td></tr>\n",
       "\t<tr><td>Myocardial infarction </td><td>myocardial infarction                                                                                                                                                                                                                                                                                                                                  </td><td> 53</td><td> 52</td></tr>\n",
       "\t<tr><td>Myocardial infarction </td><td>response to calcium channel blocker, myocardial infarction                                                                                                                                                                                                                                                                                             </td><td> 53</td><td>  1</td></tr>\n",
       "\t<tr><td>Parkinsons            </td><td>Parkinson's disease                                                                                                                                                                                                                                                                                                                                    </td><td>215</td><td>193</td></tr>\n",
       "\t<tr><td>Parkinsons            </td><td>Parkinson's disease, age at diagnosis                                                                                                                                                                                                                                                                                                                  </td><td>215</td><td>  1</td></tr>\n",
       "\t<tr><td>Parkinsons            </td><td>Parkinson's disease, age at onset                                                                                                                                                                                                                                                                                                                      </td><td>215</td><td> 11</td></tr>\n",
       "\t<tr><td>Parkinsons            </td><td>Parkinson's disease, Lewy body measurement                                                                                                                                                                                                                                                                                                             </td><td>215</td><td> 10</td></tr>\n",
       "\t<tr><td>Stroke                </td><td>Alzheimer's disease, small vessel stroke                                                                                                                                                                                                                                                                                                               </td><td>200</td><td>  1</td></tr>\n",
       "\t<tr><td>Stroke                </td><td>cancer, heart failure, diabetes mellitus, stroke, atrial fibrillation, mortality, coronary artery disease                                                                                                                                                                                                                                              </td><td>200</td><td> 14</td></tr>\n",
       "\t<tr><td>Stroke                </td><td>cardioembolic stroke                                                                                                                                                                                                                                                                                                                                   </td><td>200</td><td> 11</td></tr>\n",
       "\t<tr><td>Stroke                </td><td>intracerebral hemorrhage                                                                                                                                                                                                                                                                                                                               </td><td>200</td><td>  3</td></tr>\n",
       "\t<tr><td>Stroke                </td><td>Ischemic stroke                                                                                                                                                                                                                                                                                                                                        </td><td>200</td><td> 42</td></tr>\n",
       "\t<tr><td>Stroke                </td><td>Ischemic stroke, cardiac embolism                                                                                                                                                                                                                                                                                                                      </td><td>200</td><td>  3</td></tr>\n",
       "\t<tr><td>Stroke                </td><td>Ischemic stroke, large artery stroke                                                                                                                                                                                                                                                                                                                   </td><td>200</td><td>  5</td></tr>\n",
       "\t<tr><td>Stroke                </td><td>Ischemic stroke, small artery occlusion                                                                                                                                                                                                                                                                                                                </td><td>200</td><td>  1</td></tr>\n",
       "\t<tr><td>Stroke                </td><td>Ischemic stroke, venous thromboembolism, stroke, Abnormal thrombosis, deep vein thrombosis, pulmonary embolism                                                                                                                                                                                                                                         </td><td>200</td><td> 13</td></tr>\n",
       "\t<tr><td>Stroke                </td><td>large artery stroke                                                                                                                                                                                                                                                                                                                                    </td><td>200</td><td> 14</td></tr>\n",
       "\t<tr><td>Stroke                </td><td>lobar intracerebral hemorrhage                                                                                                                                                                                                                                                                                                                         </td><td>200</td><td>  1</td></tr>\n",
       "\t<tr><td>Stroke                </td><td>non-lobar intracerebral hemorrhage                                                                                                                                                                                                                                                                                                                     </td><td>200</td><td> 44</td></tr>\n",
       "\t<tr><td>Stroke                </td><td>small vessel stroke                                                                                                                                                                                                                                                                                                                                    </td><td>200</td><td> 11</td></tr>\n",
       "\t<tr><td>Stroke                </td><td>stroke                                                                                                                                                                                                                                                                                                                                                 </td><td>200</td><td> 49</td></tr>\n",
       "\t<tr><td>Stroke                </td><td>total cholesterol measurement, hematocrit, stroke, ventricular rate measurement, body mass index, atrial fibrillation, high density lipoprotein cholesterol measurement, coronary artery disease, cancer, diastolic blood pressure, triglyceride measurement, systolic blood pressure, heart failure, diabetes mellitus, glucose measurement, mortality</td><td>200</td><td> 44</td></tr>\n",
       "\t<tr><td>Venous thromboembolism</td><td>Ischemic stroke, venous thromboembolism, stroke, Abnormal thrombosis, deep vein thrombosis, pulmonary embolism                                                                                                                                                                                                                                         </td><td>176</td><td> 13</td></tr>\n",
       "\t<tr><td>Venous thromboembolism</td><td>venous thromboembolism                                                                                                                                                                                                                                                                                                                                 </td><td>176</td><td>166</td></tr>\n",
       "</tbody>\n",
       "</table>\n"
      ],
      "text/latex": [
       "A tibble: 67 × 4\n",
       "\\begin{tabular}{llll}\n",
       " trait & MAPPED\\_TRAIT & n\\_trait\\_snps & n\\_mapped\\_trait\\_snps\\\\\n",
       " <chr> & <chr> & <int> & <int>\\\\\n",
       "\\hline\n",
       "\t All cause dementia & age at onset, Frontotemporal dementia                                                                                               &  68 &   8\\\\\n",
       "\t All cause dementia & AIDS dementia                                                                                                                       &  68 &   4\\\\\n",
       "\t All cause dementia & Alzheimer's disease, vascular dementia                                                                                              &  68 &   2\\\\\n",
       "\t All cause dementia & amyotrophic lateral sclerosis, Frontotemporal dementia                                                                              &  68 &   1\\\\\n",
       "\t All cause dementia & brain infarction, neuritic plaque measurement, Lewy body dementia, cerebral amyloid angiopathy, neurofibrillary tangles measurement &  68 &  17\\\\\n",
       "\t All cause dementia & Frontotemporal dementia                                                                                                             &  68 &  21\\\\\n",
       "\t All cause dementia & Lewy body dementia                                                                                                                  &  68 &  17\\\\\n",
       "\t Asthma             & age at onset, asthma                                                                                                                & 451 &  10\\\\\n",
       "\t Asthma             & asthma                                                                                                                              & 451 & 179\\\\\n",
       "\t Asthma             & asthma, traffic air pollution measurement                                                                                           & 451 &   5\\\\\n",
       "\t Asthma             & childhood onset asthma                                                                                                              & 451 &  35\\\\\n",
       "\t Asthma             & childhood onset asthma, age at onset                                                                                                & 451 &   2\\\\\n",
       "\t Asthma             & childhood onset asthma, age at onset, environmental tobacco smoke exposure measurement                                              & 451 &   4\\\\\n",
       "\t Asthma             & childhood onset asthma, atopic eczema, atopic march                                                                                 & 451 &   7\\\\\n",
       "\t Asthma             & chronic obstructive pulmonary disease, asthma                                                                                       & 451 &   3\\\\\n",
       "\t Asthma             & Hispanic or Latin American, asthma                                                                                                  & 451 &   4\\\\\n",
       "\t Asthma             & response to corticosteroid, asthma                                                                                                  & 451 &   2\\\\\n",
       "\t Asthma             & response to diisocyanate, asthma                                                                                                    & 451 & 180\\\\\n",
       "\t Asthma             & seasonal allergic rhinitis, asthma                                                                                                  & 451 &  21\\\\\n",
       "\t Asthma             & sex interaction measurement, asthma                                                                                                 & 451 &   6\\\\\n",
       "\t COPD               & chronic bronchitis                                                                                                                  & 107 &   1\\\\\n",
       "\t COPD               & chronic obstructive pulmonary disease                                                                                               & 107 &  53\\\\\n",
       "\t COPD               & chronic obstructive pulmonary disease, asthma                                                                                       & 107 &   3\\\\\n",
       "\t COPD               & chronic obstructive pulmonary disease, C-reactive protein measurement                                                               & 107 &   2\\\\\n",
       "\t COPD               & chronic obstructive pulmonary disease, CC16 measurement                                                                             & 107 &   5\\\\\n",
       "\t COPD               & chronic obstructive pulmonary disease, chronic bronchitis                                                                           & 107 &   9\\\\\n",
       "\t COPD               & chronic obstructive pulmonary disease, fibrinogen measurement                                                                       & 107 &   3\\\\\n",
       "\t COPD               & chronic obstructive pulmonary disease, interleukin-8 measurement                                                                    & 107 &   4\\\\\n",
       "\t COPD               & chronic obstructive pulmonary disease, surfactant protein D measurement                                                             & 107 &  12\\\\\n",
       "\t COPD               & emphysema                                                                                                                           & 107 &  10\\\\\n",
       "\t ⋮ & ⋮ & ⋮ & ⋮\\\\\n",
       "\t Ischemic stroke        & Ischemic stroke, small artery occlusion                                                                                                                                                                                                                                                                                                                 &  63 &   1\\\\\n",
       "\t Ischemic stroke        & Ischemic stroke, venous thromboembolism, stroke, Abnormal thrombosis, deep vein thrombosis, pulmonary embolism                                                                                                                                                                                                                                          &  63 &  13\\\\\n",
       "\t Motor neurone disease  & amyotrophic lateral sclerosis                                                                                                                                                                                                                                                                                                                           &  79 &  57\\\\\n",
       "\t Motor neurone disease  & amyotrophic lateral sclerosis, age at onset                                                                                                                                                                                                                                                                                                             &  79 &  13\\\\\n",
       "\t Motor neurone disease  & amyotrophic lateral sclerosis, Frontotemporal dementia                                                                                                                                                                                                                                                                                                  &  79 &   1\\\\\n",
       "\t Motor neurone disease  & sporadic amyotrophic lateral sclerosis                                                                                                                                                                                                                                                                                                                  &  79 &   7\\\\\n",
       "\t Motor neurone disease  & sporadic amyotrophic lateral sclerosis, survival time                                                                                                                                                                                                                                                                                                   &  79 &   6\\\\\n",
       "\t Myocardial infarction  & myocardial infarction                                                                                                                                                                                                                                                                                                                                   &  53 &  52\\\\\n",
       "\t Myocardial infarction  & response to calcium channel blocker, myocardial infarction                                                                                                                                                                                                                                                                                              &  53 &   1\\\\\n",
       "\t Parkinsons             & Parkinson's disease                                                                                                                                                                                                                                                                                                                                     & 215 & 193\\\\\n",
       "\t Parkinsons             & Parkinson's disease, age at diagnosis                                                                                                                                                                                                                                                                                                                   & 215 &   1\\\\\n",
       "\t Parkinsons             & Parkinson's disease, age at onset                                                                                                                                                                                                                                                                                                                       & 215 &  11\\\\\n",
       "\t Parkinsons             & Parkinson's disease, Lewy body measurement                                                                                                                                                                                                                                                                                                              & 215 &  10\\\\\n",
       "\t Stroke                 & Alzheimer's disease, small vessel stroke                                                                                                                                                                                                                                                                                                                & 200 &   1\\\\\n",
       "\t Stroke                 & cancer, heart failure, diabetes mellitus, stroke, atrial fibrillation, mortality, coronary artery disease                                                                                                                                                                                                                                               & 200 &  14\\\\\n",
       "\t Stroke                 & cardioembolic stroke                                                                                                                                                                                                                                                                                                                                    & 200 &  11\\\\\n",
       "\t Stroke                 & intracerebral hemorrhage                                                                                                                                                                                                                                                                                                                                & 200 &   3\\\\\n",
       "\t Stroke                 & Ischemic stroke                                                                                                                                                                                                                                                                                                                                         & 200 &  42\\\\\n",
       "\t Stroke                 & Ischemic stroke, cardiac embolism                                                                                                                                                                                                                                                                                                                       & 200 &   3\\\\\n",
       "\t Stroke                 & Ischemic stroke, large artery stroke                                                                                                                                                                                                                                                                                                                    & 200 &   5\\\\\n",
       "\t Stroke                 & Ischemic stroke, small artery occlusion                                                                                                                                                                                                                                                                                                                 & 200 &   1\\\\\n",
       "\t Stroke                 & Ischemic stroke, venous thromboembolism, stroke, Abnormal thrombosis, deep vein thrombosis, pulmonary embolism                                                                                                                                                                                                                                          & 200 &  13\\\\\n",
       "\t Stroke                 & large artery stroke                                                                                                                                                                                                                                                                                                                                     & 200 &  14\\\\\n",
       "\t Stroke                 & lobar intracerebral hemorrhage                                                                                                                                                                                                                                                                                                                          & 200 &   1\\\\\n",
       "\t Stroke                 & non-lobar intracerebral hemorrhage                                                                                                                                                                                                                                                                                                                      & 200 &  44\\\\\n",
       "\t Stroke                 & small vessel stroke                                                                                                                                                                                                                                                                                                                                     & 200 &  11\\\\\n",
       "\t Stroke                 & stroke                                                                                                                                                                                                                                                                                                                                                  & 200 &  49\\\\\n",
       "\t Stroke                 & total cholesterol measurement, hematocrit, stroke, ventricular rate measurement, body mass index, atrial fibrillation, high density lipoprotein cholesterol measurement, coronary artery disease, cancer, diastolic blood pressure, triglyceride measurement, systolic blood pressure, heart failure, diabetes mellitus, glucose measurement, mortality & 200 &  44\\\\\n",
       "\t Venous thromboembolism & Ischemic stroke, venous thromboembolism, stroke, Abnormal thrombosis, deep vein thrombosis, pulmonary embolism                                                                                                                                                                                                                                          & 176 &  13\\\\\n",
       "\t Venous thromboembolism & venous thromboembolism                                                                                                                                                                                                                                                                                                                                  & 176 & 166\\\\\n",
       "\\end{tabular}\n"
      ],
      "text/markdown": [
       "\n",
       "A tibble: 67 × 4\n",
       "\n",
       "| trait &lt;chr&gt; | MAPPED_TRAIT &lt;chr&gt; | n_trait_snps &lt;int&gt; | n_mapped_trait_snps &lt;int&gt; |\n",
       "|---|---|---|---|\n",
       "| All cause dementia | age at onset, Frontotemporal dementia                                                                                               |  68 |   8 |\n",
       "| All cause dementia | AIDS dementia                                                                                                                       |  68 |   4 |\n",
       "| All cause dementia | Alzheimer's disease, vascular dementia                                                                                              |  68 |   2 |\n",
       "| All cause dementia | amyotrophic lateral sclerosis, Frontotemporal dementia                                                                              |  68 |   1 |\n",
       "| All cause dementia | brain infarction, neuritic plaque measurement, Lewy body dementia, cerebral amyloid angiopathy, neurofibrillary tangles measurement |  68 |  17 |\n",
       "| All cause dementia | Frontotemporal dementia                                                                                                             |  68 |  21 |\n",
       "| All cause dementia | Lewy body dementia                                                                                                                  |  68 |  17 |\n",
       "| Asthma             | age at onset, asthma                                                                                                                | 451 |  10 |\n",
       "| Asthma             | asthma                                                                                                                              | 451 | 179 |\n",
       "| Asthma             | asthma, traffic air pollution measurement                                                                                           | 451 |   5 |\n",
       "| Asthma             | childhood onset asthma                                                                                                              | 451 |  35 |\n",
       "| Asthma             | childhood onset asthma, age at onset                                                                                                | 451 |   2 |\n",
       "| Asthma             | childhood onset asthma, age at onset, environmental tobacco smoke exposure measurement                                              | 451 |   4 |\n",
       "| Asthma             | childhood onset asthma, atopic eczema, atopic march                                                                                 | 451 |   7 |\n",
       "| Asthma             | chronic obstructive pulmonary disease, asthma                                                                                       | 451 |   3 |\n",
       "| Asthma             | Hispanic or Latin American, asthma                                                                                                  | 451 |   4 |\n",
       "| Asthma             | response to corticosteroid, asthma                                                                                                  | 451 |   2 |\n",
       "| Asthma             | response to diisocyanate, asthma                                                                                                    | 451 | 180 |\n",
       "| Asthma             | seasonal allergic rhinitis, asthma                                                                                                  | 451 |  21 |\n",
       "| Asthma             | sex interaction measurement, asthma                                                                                                 | 451 |   6 |\n",
       "| COPD               | chronic bronchitis                                                                                                                  | 107 |   1 |\n",
       "| COPD               | chronic obstructive pulmonary disease                                                                                               | 107 |  53 |\n",
       "| COPD               | chronic obstructive pulmonary disease, asthma                                                                                       | 107 |   3 |\n",
       "| COPD               | chronic obstructive pulmonary disease, C-reactive protein measurement                                                               | 107 |   2 |\n",
       "| COPD               | chronic obstructive pulmonary disease, CC16 measurement                                                                             | 107 |   5 |\n",
       "| COPD               | chronic obstructive pulmonary disease, chronic bronchitis                                                                           | 107 |   9 |\n",
       "| COPD               | chronic obstructive pulmonary disease, fibrinogen measurement                                                                       | 107 |   3 |\n",
       "| COPD               | chronic obstructive pulmonary disease, interleukin-8 measurement                                                                    | 107 |   4 |\n",
       "| COPD               | chronic obstructive pulmonary disease, surfactant protein D measurement                                                             | 107 |  12 |\n",
       "| COPD               | emphysema                                                                                                                           | 107 |  10 |\n",
       "| ⋮ | ⋮ | ⋮ | ⋮ |\n",
       "| Ischemic stroke        | Ischemic stroke, small artery occlusion                                                                                                                                                                                                                                                                                                                 |  63 |   1 |\n",
       "| Ischemic stroke        | Ischemic stroke, venous thromboembolism, stroke, Abnormal thrombosis, deep vein thrombosis, pulmonary embolism                                                                                                                                                                                                                                          |  63 |  13 |\n",
       "| Motor neurone disease  | amyotrophic lateral sclerosis                                                                                                                                                                                                                                                                                                                           |  79 |  57 |\n",
       "| Motor neurone disease  | amyotrophic lateral sclerosis, age at onset                                                                                                                                                                                                                                                                                                             |  79 |  13 |\n",
       "| Motor neurone disease  | amyotrophic lateral sclerosis, Frontotemporal dementia                                                                                                                                                                                                                                                                                                  |  79 |   1 |\n",
       "| Motor neurone disease  | sporadic amyotrophic lateral sclerosis                                                                                                                                                                                                                                                                                                                  |  79 |   7 |\n",
       "| Motor neurone disease  | sporadic amyotrophic lateral sclerosis, survival time                                                                                                                                                                                                                                                                                                   |  79 |   6 |\n",
       "| Myocardial infarction  | myocardial infarction                                                                                                                                                                                                                                                                                                                                   |  53 |  52 |\n",
       "| Myocardial infarction  | response to calcium channel blocker, myocardial infarction                                                                                                                                                                                                                                                                                              |  53 |   1 |\n",
       "| Parkinsons             | Parkinson's disease                                                                                                                                                                                                                                                                                                                                     | 215 | 193 |\n",
       "| Parkinsons             | Parkinson's disease, age at diagnosis                                                                                                                                                                                                                                                                                                                   | 215 |   1 |\n",
       "| Parkinsons             | Parkinson's disease, age at onset                                                                                                                                                                                                                                                                                                                       | 215 |  11 |\n",
       "| Parkinsons             | Parkinson's disease, Lewy body measurement                                                                                                                                                                                                                                                                                                              | 215 |  10 |\n",
       "| Stroke                 | Alzheimer's disease, small vessel stroke                                                                                                                                                                                                                                                                                                                | 200 |   1 |\n",
       "| Stroke                 | cancer, heart failure, diabetes mellitus, stroke, atrial fibrillation, mortality, coronary artery disease                                                                                                                                                                                                                                               | 200 |  14 |\n",
       "| Stroke                 | cardioembolic stroke                                                                                                                                                                                                                                                                                                                                    | 200 |  11 |\n",
       "| Stroke                 | intracerebral hemorrhage                                                                                                                                                                                                                                                                                                                                | 200 |   3 |\n",
       "| Stroke                 | Ischemic stroke                                                                                                                                                                                                                                                                                                                                         | 200 |  42 |\n",
       "| Stroke                 | Ischemic stroke, cardiac embolism                                                                                                                                                                                                                                                                                                                       | 200 |   3 |\n",
       "| Stroke                 | Ischemic stroke, large artery stroke                                                                                                                                                                                                                                                                                                                    | 200 |   5 |\n",
       "| Stroke                 | Ischemic stroke, small artery occlusion                                                                                                                                                                                                                                                                                                                 | 200 |   1 |\n",
       "| Stroke                 | Ischemic stroke, venous thromboembolism, stroke, Abnormal thrombosis, deep vein thrombosis, pulmonary embolism                                                                                                                                                                                                                                          | 200 |  13 |\n",
       "| Stroke                 | large artery stroke                                                                                                                                                                                                                                                                                                                                     | 200 |  14 |\n",
       "| Stroke                 | lobar intracerebral hemorrhage                                                                                                                                                                                                                                                                                                                          | 200 |   1 |\n",
       "| Stroke                 | non-lobar intracerebral hemorrhage                                                                                                                                                                                                                                                                                                                      | 200 |  44 |\n",
       "| Stroke                 | small vessel stroke                                                                                                                                                                                                                                                                                                                                     | 200 |  11 |\n",
       "| Stroke                 | stroke                                                                                                                                                                                                                                                                                                                                                  | 200 |  49 |\n",
       "| Stroke                 | total cholesterol measurement, hematocrit, stroke, ventricular rate measurement, body mass index, atrial fibrillation, high density lipoprotein cholesterol measurement, coronary artery disease, cancer, diastolic blood pressure, triglyceride measurement, systolic blood pressure, heart failure, diabetes mellitus, glucose measurement, mortality | 200 |  44 |\n",
       "| Venous thromboembolism | Ischemic stroke, venous thromboembolism, stroke, Abnormal thrombosis, deep vein thrombosis, pulmonary embolism                                                                                                                                                                                                                                          | 176 |  13 |\n",
       "| Venous thromboembolism | venous thromboembolism                                                                                                                                                                                                                                                                                                                                  | 176 | 166 |\n",
       "\n"
      ],
      "text/plain": [
       "   trait                 \n",
       "1  All cause dementia    \n",
       "2  All cause dementia    \n",
       "3  All cause dementia    \n",
       "4  All cause dementia    \n",
       "5  All cause dementia    \n",
       "6  All cause dementia    \n",
       "7  All cause dementia    \n",
       "8  Asthma                \n",
       "9  Asthma                \n",
       "10 Asthma                \n",
       "11 Asthma                \n",
       "12 Asthma                \n",
       "13 Asthma                \n",
       "14 Asthma                \n",
       "15 Asthma                \n",
       "16 Asthma                \n",
       "17 Asthma                \n",
       "18 Asthma                \n",
       "19 Asthma                \n",
       "20 Asthma                \n",
       "21 COPD                  \n",
       "22 COPD                  \n",
       "23 COPD                  \n",
       "24 COPD                  \n",
       "25 COPD                  \n",
       "26 COPD                  \n",
       "27 COPD                  \n",
       "28 COPD                  \n",
       "29 COPD                  \n",
       "30 COPD                  \n",
       "⋮  ⋮                     \n",
       "38 Ischemic stroke       \n",
       "39 Ischemic stroke       \n",
       "40 Motor neurone disease \n",
       "41 Motor neurone disease \n",
       "42 Motor neurone disease \n",
       "43 Motor neurone disease \n",
       "44 Motor neurone disease \n",
       "45 Myocardial infarction \n",
       "46 Myocardial infarction \n",
       "47 Parkinsons            \n",
       "48 Parkinsons            \n",
       "49 Parkinsons            \n",
       "50 Parkinsons            \n",
       "51 Stroke                \n",
       "52 Stroke                \n",
       "53 Stroke                \n",
       "54 Stroke                \n",
       "55 Stroke                \n",
       "56 Stroke                \n",
       "57 Stroke                \n",
       "58 Stroke                \n",
       "59 Stroke                \n",
       "60 Stroke                \n",
       "61 Stroke                \n",
       "62 Stroke                \n",
       "63 Stroke                \n",
       "64 Stroke                \n",
       "65 Stroke                \n",
       "66 Venous thromboembolism\n",
       "67 Venous thromboembolism\n",
       "   MAPPED_TRAIT                                                                                                                                                                                                                                                                                                                                           \n",
       "1  age at onset, Frontotemporal dementia                                                                                                                                                                                                                                                                                                                  \n",
       "2  AIDS dementia                                                                                                                                                                                                                                                                                                                                          \n",
       "3  Alzheimer's disease, vascular dementia                                                                                                                                                                                                                                                                                                                 \n",
       "4  amyotrophic lateral sclerosis, Frontotemporal dementia                                                                                                                                                                                                                                                                                                 \n",
       "5  brain infarction, neuritic plaque measurement, Lewy body dementia, cerebral amyloid angiopathy, neurofibrillary tangles measurement                                                                                                                                                                                                                    \n",
       "6  Frontotemporal dementia                                                                                                                                                                                                                                                                                                                                \n",
       "7  Lewy body dementia                                                                                                                                                                                                                                                                                                                                     \n",
       "8  age at onset, asthma                                                                                                                                                                                                                                                                                                                                   \n",
       "9  asthma                                                                                                                                                                                                                                                                                                                                                 \n",
       "10 asthma, traffic air pollution measurement                                                                                                                                                                                                                                                                                                              \n",
       "11 childhood onset asthma                                                                                                                                                                                                                                                                                                                                 \n",
       "12 childhood onset asthma, age at onset                                                                                                                                                                                                                                                                                                                   \n",
       "13 childhood onset asthma, age at onset, environmental tobacco smoke exposure measurement                                                                                                                                                                                                                                                                 \n",
       "14 childhood onset asthma, atopic eczema, atopic march                                                                                                                                                                                                                                                                                                    \n",
       "15 chronic obstructive pulmonary disease, asthma                                                                                                                                                                                                                                                                                                          \n",
       "16 Hispanic or Latin American, asthma                                                                                                                                                                                                                                                                                                                     \n",
       "17 response to corticosteroid, asthma                                                                                                                                                                                                                                                                                                                     \n",
       "18 response to diisocyanate, asthma                                                                                                                                                                                                                                                                                                                       \n",
       "19 seasonal allergic rhinitis, asthma                                                                                                                                                                                                                                                                                                                     \n",
       "20 sex interaction measurement, asthma                                                                                                                                                                                                                                                                                                                    \n",
       "21 chronic bronchitis                                                                                                                                                                                                                                                                                                                                     \n",
       "22 chronic obstructive pulmonary disease                                                                                                                                                                                                                                                                                                                  \n",
       "23 chronic obstructive pulmonary disease, asthma                                                                                                                                                                                                                                                                                                          \n",
       "24 chronic obstructive pulmonary disease, C-reactive protein measurement                                                                                                                                                                                                                                                                                  \n",
       "25 chronic obstructive pulmonary disease, CC16 measurement                                                                                                                                                                                                                                                                                                \n",
       "26 chronic obstructive pulmonary disease, chronic bronchitis                                                                                                                                                                                                                                                                                              \n",
       "27 chronic obstructive pulmonary disease, fibrinogen measurement                                                                                                                                                                                                                                                                                          \n",
       "28 chronic obstructive pulmonary disease, interleukin-8 measurement                                                                                                                                                                                                                                                                                       \n",
       "29 chronic obstructive pulmonary disease, surfactant protein D measurement                                                                                                                                                                                                                                                                                \n",
       "30 emphysema                                                                                                                                                                                                                                                                                                                                              \n",
       "⋮  ⋮                                                                                                                                                                                                                                                                                                                                                      \n",
       "38 Ischemic stroke, small artery occlusion                                                                                                                                                                                                                                                                                                                \n",
       "39 Ischemic stroke, venous thromboembolism, stroke, Abnormal thrombosis, deep vein thrombosis, pulmonary embolism                                                                                                                                                                                                                                         \n",
       "40 amyotrophic lateral sclerosis                                                                                                                                                                                                                                                                                                                          \n",
       "41 amyotrophic lateral sclerosis, age at onset                                                                                                                                                                                                                                                                                                            \n",
       "42 amyotrophic lateral sclerosis, Frontotemporal dementia                                                                                                                                                                                                                                                                                                 \n",
       "43 sporadic amyotrophic lateral sclerosis                                                                                                                                                                                                                                                                                                                 \n",
       "44 sporadic amyotrophic lateral sclerosis, survival time                                                                                                                                                                                                                                                                                                  \n",
       "45 myocardial infarction                                                                                                                                                                                                                                                                                                                                  \n",
       "46 response to calcium channel blocker, myocardial infarction                                                                                                                                                                                                                                                                                             \n",
       "47 Parkinson's disease                                                                                                                                                                                                                                                                                                                                    \n",
       "48 Parkinson's disease, age at diagnosis                                                                                                                                                                                                                                                                                                                  \n",
       "49 Parkinson's disease, age at onset                                                                                                                                                                                                                                                                                                                      \n",
       "50 Parkinson's disease, Lewy body measurement                                                                                                                                                                                                                                                                                                             \n",
       "51 Alzheimer's disease, small vessel stroke                                                                                                                                                                                                                                                                                                               \n",
       "52 cancer, heart failure, diabetes mellitus, stroke, atrial fibrillation, mortality, coronary artery disease                                                                                                                                                                                                                                              \n",
       "53 cardioembolic stroke                                                                                                                                                                                                                                                                                                                                   \n",
       "54 intracerebral hemorrhage                                                                                                                                                                                                                                                                                                                               \n",
       "55 Ischemic stroke                                                                                                                                                                                                                                                                                                                                        \n",
       "56 Ischemic stroke, cardiac embolism                                                                                                                                                                                                                                                                                                                      \n",
       "57 Ischemic stroke, large artery stroke                                                                                                                                                                                                                                                                                                                   \n",
       "58 Ischemic stroke, small artery occlusion                                                                                                                                                                                                                                                                                                                \n",
       "59 Ischemic stroke, venous thromboembolism, stroke, Abnormal thrombosis, deep vein thrombosis, pulmonary embolism                                                                                                                                                                                                                                         \n",
       "60 large artery stroke                                                                                                                                                                                                                                                                                                                                    \n",
       "61 lobar intracerebral hemorrhage                                                                                                                                                                                                                                                                                                                         \n",
       "62 non-lobar intracerebral hemorrhage                                                                                                                                                                                                                                                                                                                     \n",
       "63 small vessel stroke                                                                                                                                                                                                                                                                                                                                    \n",
       "64 stroke                                                                                                                                                                                                                                                                                                                                                 \n",
       "65 total cholesterol measurement, hematocrit, stroke, ventricular rate measurement, body mass index, atrial fibrillation, high density lipoprotein cholesterol measurement, coronary artery disease, cancer, diastolic blood pressure, triglyceride measurement, systolic blood pressure, heart failure, diabetes mellitus, glucose measurement, mortality\n",
       "66 Ischemic stroke, venous thromboembolism, stroke, Abnormal thrombosis, deep vein thrombosis, pulmonary embolism                                                                                                                                                                                                                                         \n",
       "67 venous thromboembolism                                                                                                                                                                                                                                                                                                                                 \n",
       "   n_trait_snps n_mapped_trait_snps\n",
       "1   68            8                \n",
       "2   68            4                \n",
       "3   68            2                \n",
       "4   68            1                \n",
       "5   68           17                \n",
       "6   68           21                \n",
       "7   68           17                \n",
       "8  451           10                \n",
       "9  451          179                \n",
       "10 451            5                \n",
       "11 451           35                \n",
       "12 451            2                \n",
       "13 451            4                \n",
       "14 451            7                \n",
       "15 451            3                \n",
       "16 451            4                \n",
       "17 451            2                \n",
       "18 451          180                \n",
       "19 451           21                \n",
       "20 451            6                \n",
       "21 107            1                \n",
       "22 107           53                \n",
       "23 107            3                \n",
       "24 107            2                \n",
       "25 107            5                \n",
       "26 107            9                \n",
       "27 107            3                \n",
       "28 107            4                \n",
       "29 107           12                \n",
       "30 107           10                \n",
       "⋮  ⋮            ⋮                  \n",
       "38  63            1                \n",
       "39  63           13                \n",
       "40  79           57                \n",
       "41  79           13                \n",
       "42  79            1                \n",
       "43  79            7                \n",
       "44  79            6                \n",
       "45  53           52                \n",
       "46  53            1                \n",
       "47 215          193                \n",
       "48 215            1                \n",
       "49 215           11                \n",
       "50 215           10                \n",
       "51 200            1                \n",
       "52 200           14                \n",
       "53 200           11                \n",
       "54 200            3                \n",
       "55 200           42                \n",
       "56 200            3                \n",
       "57 200            5                \n",
       "58 200            1                \n",
       "59 200           13                \n",
       "60 200           14                \n",
       "61 200            1                \n",
       "62 200           44                \n",
       "63 200           11                \n",
       "64 200           49                \n",
       "65 200           44                \n",
       "66 176           13                \n",
       "67 176          166                "
      ]
     },
     "metadata": {},
     "output_type": "display_data"
    }
   ],
   "source": [
    "markers_df %>%\n",
    "    group_by(trait) %>%\n",
    "    mutate(n_trait_snps = n_distinct(SNP_ID_CURRENT, na.rm = T)) %>%\n",
    "    group_by(trait, MAPPED_TRAIT, n_trait_snps) %>%\n",
    "    summarize(n_mapped_trait_snps = n_distinct(SNP_ID_CURRENT), .groups = 'drop')"
   ]
  },
  {
   "cell_type": "code",
   "execution_count": 12,
   "id": "be78e357",
   "metadata": {},
   "outputs": [],
   "source": [
    "markers_df %>%\n",
    "    distinct(trait, SNP_ID_CURRENT) %>%\n",
    "    mutate(snp_id = str_c('rs', SNP_ID_CURRENT)) %>%\n",
    "    select(trait, snp_id) %>%\n",
    "    arrange(trait, snp_id) %>%\n",
    "    write_tsv('../../data/markers/all_gwas_catalog.tsv')"
   ]
  }
 ],
 "metadata": {
  "kernelspec": {
   "display_name": "R [conda env:qtp] *",
   "language": "R",
   "name": "conda-env-qtp-r"
  },
  "language_info": {
   "codemirror_mode": "r",
   "file_extension": ".r",
   "mimetype": "text/x-r-source",
   "name": "R",
   "pygments_lexer": "r",
   "version": "4.0.2"
  }
 },
 "nbformat": 4,
 "nbformat_minor": 5
}
