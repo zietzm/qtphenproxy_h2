{
 "cells": [
  {
   "cell_type": "code",
   "execution_count": 1,
   "id": "914b3e47",
   "metadata": {},
   "outputs": [
    {
     "name": "stderr",
     "output_type": "stream",
     "text": [
      "── \u001b[1mAttaching packages\u001b[22m ─────────────────────────────────────────────────────────── tidyverse 1.3.1 ──\n",
      "\n",
      "\u001b[32m✔\u001b[39m \u001b[34mggplot2\u001b[39m 3.3.5     \u001b[32m✔\u001b[39m \u001b[34mpurrr  \u001b[39m 0.3.4\n",
      "\u001b[32m✔\u001b[39m \u001b[34mtibble \u001b[39m 3.1.2     \u001b[32m✔\u001b[39m \u001b[34mdplyr  \u001b[39m 1.0.7\n",
      "\u001b[32m✔\u001b[39m \u001b[34mtidyr  \u001b[39m 1.1.3     \u001b[32m✔\u001b[39m \u001b[34mstringr\u001b[39m 1.4.0\n",
      "\u001b[32m✔\u001b[39m \u001b[34mreadr  \u001b[39m 1.4.0     \u001b[32m✔\u001b[39m \u001b[34mforcats\u001b[39m 0.5.1\n",
      "\n",
      "── \u001b[1mConflicts\u001b[22m ────────────────────────────────────────────────────────────── tidyverse_conflicts() ──\n",
      "\u001b[31m✖\u001b[39m \u001b[34mdplyr\u001b[39m::\u001b[32mfilter()\u001b[39m masks \u001b[34mstats\u001b[39m::filter()\n",
      "\u001b[31m✖\u001b[39m \u001b[34mdplyr\u001b[39m::\u001b[32mlag()\u001b[39m    masks \u001b[34mstats\u001b[39m::lag()\n",
      "\n"
     ]
    }
   ],
   "source": [
    "library(tidyverse)\n",
    "library(broom)"
   ]
  },
  {
   "cell_type": "markdown",
   "id": "310593d4",
   "metadata": {},
   "source": [
    "# Load data files"
   ]
  },
  {
   "cell_type": "code",
   "execution_count": 2,
   "id": "c17ffe50",
   "metadata": {},
   "outputs": [
    {
     "data": {
      "text/html": [
       "337147"
      ],
      "text/latex": [
       "337147"
      ],
      "text/markdown": [
       "337147"
      ],
      "text/plain": [
       "[1] 337147"
      ]
     },
     "metadata": {},
     "output_type": "display_data"
    },
    {
     "data": {
      "text/html": [
       "<table class=\"dataframe\">\n",
       "<caption>A tibble: 0 × 17</caption>\n",
       "<thead>\n",
       "\t<tr><th scope=col>FID</th><th scope=col>IID</th><th scope=col>sex</th><th scope=col>age</th><th scope=col>PC1</th><th scope=col>PC2</th><th scope=col>PC3</th><th scope=col>PC4</th><th scope=col>PC5</th><th scope=col>PC6</th><th scope=col>PC7</th><th scope=col>PC8</th><th scope=col>PC9</th><th scope=col>PC10</th><th scope=col>age_squared</th><th scope=col>age_sex</th><th scope=col>age_squared_sex</th></tr>\n",
       "\t<tr><th scope=col>&lt;dbl&gt;</th><th scope=col>&lt;dbl&gt;</th><th scope=col>&lt;dbl&gt;</th><th scope=col>&lt;dbl&gt;</th><th scope=col>&lt;dbl&gt;</th><th scope=col>&lt;dbl&gt;</th><th scope=col>&lt;dbl&gt;</th><th scope=col>&lt;dbl&gt;</th><th scope=col>&lt;dbl&gt;</th><th scope=col>&lt;dbl&gt;</th><th scope=col>&lt;dbl&gt;</th><th scope=col>&lt;dbl&gt;</th><th scope=col>&lt;dbl&gt;</th><th scope=col>&lt;dbl&gt;</th><th scope=col>&lt;dbl&gt;</th><th scope=col>&lt;dbl&gt;</th><th scope=col>&lt;dbl&gt;</th></tr>\n",
       "</thead>\n",
       "<tbody>\n",
       "</tbody>\n",
       "</table>\n"
      ],
      "text/latex": [
       "A tibble: 0 × 17\n",
       "\\begin{tabular}{lllllllllllllllll}\n",
       " FID & IID & sex & age & PC1 & PC2 & PC3 & PC4 & PC5 & PC6 & PC7 & PC8 & PC9 & PC10 & age\\_squared & age\\_sex & age\\_squared\\_sex\\\\\n",
       " <dbl> & <dbl> & <dbl> & <dbl> & <dbl> & <dbl> & <dbl> & <dbl> & <dbl> & <dbl> & <dbl> & <dbl> & <dbl> & <dbl> & <dbl> & <dbl> & <dbl>\\\\\n",
       "\\hline\n",
       "\\end{tabular}\n"
      ],
      "text/markdown": [
       "\n",
       "A tibble: 0 × 17\n",
       "\n",
       "| FID &lt;dbl&gt; | IID &lt;dbl&gt; | sex &lt;dbl&gt; | age &lt;dbl&gt; | PC1 &lt;dbl&gt; | PC2 &lt;dbl&gt; | PC3 &lt;dbl&gt; | PC4 &lt;dbl&gt; | PC5 &lt;dbl&gt; | PC6 &lt;dbl&gt; | PC7 &lt;dbl&gt; | PC8 &lt;dbl&gt; | PC9 &lt;dbl&gt; | PC10 &lt;dbl&gt; | age_squared &lt;dbl&gt; | age_sex &lt;dbl&gt; | age_squared_sex &lt;dbl&gt; |\n",
       "|---|---|---|---|---|---|---|---|---|---|---|---|---|---|---|---|---|\n",
       "\n"
      ],
      "text/plain": [
       "     FID IID sex age PC1 PC2 PC3 PC4 PC5 PC6 PC7 PC8 PC9 PC10 age_squared\n",
       "     age_sex age_squared_sex"
      ]
     },
     "metadata": {},
     "output_type": "display_data"
    }
   ],
   "source": [
    "covar_df <- read_tsv('../data/phenotypes/gwas_covariates.covar', col_types = cols())\n",
    "\n",
    "covar_df %>% nrow\n",
    "\n",
    "covar_df %>% head(0)"
   ]
  },
  {
   "cell_type": "code",
   "execution_count": 3,
   "id": "555cb1d0",
   "metadata": {},
   "outputs": [
    {
     "data": {
      "text/html": [
       "353252"
      ],
      "text/latex": [
       "353252"
      ],
      "text/markdown": [
       "353252"
      ],
      "text/plain": [
       "[1] 353252"
      ]
     },
     "metadata": {},
     "output_type": "display_data"
    },
    {
     "data": {
      "text/html": [
       "<table class=\"dataframe\">\n",
       "<caption>A tibble: 0 × 5</caption>\n",
       "<thead>\n",
       "\t<tr><th scope=col>FID</th><th scope=col>IID</th><th scope=col>target</th><th scope=col>qtphenproxy</th><th scope=col>qtphenproxy_h2</th></tr>\n",
       "\t<tr><th scope=col>&lt;dbl&gt;</th><th scope=col>&lt;dbl&gt;</th><th scope=col>&lt;dbl&gt;</th><th scope=col>&lt;dbl&gt;</th><th scope=col>&lt;dbl&gt;</th></tr>\n",
       "</thead>\n",
       "<tbody>\n",
       "</tbody>\n",
       "</table>\n"
      ],
      "text/latex": [
       "A tibble: 0 × 5\n",
       "\\begin{tabular}{lllll}\n",
       " FID & IID & target & qtphenproxy & qtphenproxy\\_h2\\\\\n",
       " <dbl> & <dbl> & <dbl> & <dbl> & <dbl>\\\\\n",
       "\\hline\n",
       "\\end{tabular}\n"
      ],
      "text/markdown": [
       "\n",
       "A tibble: 0 × 5\n",
       "\n",
       "| FID &lt;dbl&gt; | IID &lt;dbl&gt; | target &lt;dbl&gt; | qtphenproxy &lt;dbl&gt; | qtphenproxy_h2 &lt;dbl&gt; |\n",
       "|---|---|---|---|---|\n",
       "\n"
      ],
      "text/plain": [
       "     FID IID target qtphenproxy qtphenproxy_h2"
      ]
     },
     "metadata": {},
     "output_type": "display_data"
    }
   ],
   "source": [
    "phenotypes_df <- read_tsv('../data/saved_qtphenproxy_I63/predictions.pheno', col_types = cols())\n",
    "\n",
    "phenotypes_df %>% nrow\n",
    "\n",
    "phenotypes_df %>% head(0)"
   ]
  },
  {
   "cell_type": "code",
   "execution_count": 4,
   "id": "af6b6019",
   "metadata": {},
   "outputs": [
    {
     "data": {
      "text/html": [
       "487409"
      ],
      "text/latex": [
       "487409"
      ],
      "text/markdown": [
       "487409"
      ],
      "text/plain": [
       "[1] 487409"
      ]
     },
     "metadata": {},
     "output_type": "display_data"
    },
    {
     "name": "stderr",
     "output_type": "stream",
     "text": [
      "Warning message in cbind(parts$left, ellip_h, parts$right, deparse.level = 0L):\n",
      "“number of rows of result is not a multiple of vector length (arg 2)”\n",
      "Warning message in cbind(parts$left, ellip_h, parts$right, deparse.level = 0L):\n",
      "“number of rows of result is not a multiple of vector length (arg 2)”\n",
      "Warning message in cbind(parts$left, ellip_h, parts$right, deparse.level = 0L):\n",
      "“number of rows of result is not a multiple of vector length (arg 2)”\n",
      "Warning message in cbind(parts$left, ellip_h, parts$right, deparse.level = 0L):\n",
      "“number of rows of result is not a multiple of vector length (arg 2)”\n"
     ]
    },
    {
     "data": {
      "text/html": [
       "<table class=\"dataframe\">\n",
       "<caption>A tibble: 0 × 109</caption>\n",
       "<thead>\n",
       "\t<tr><th scope=col>FID</th><th scope=col>IID</th><th scope=col>PAT</th><th scope=col>MAT</th><th scope=col>SEX</th><th scope=col>PHENOTYPE</th><th scope=col>rs6695915_A</th><th scope=col>rs138364069_C</th><th scope=col>rs3176471_A</th><th scope=col>rs11206510_T</th><th scope=col>⋯</th><th scope=col>rs2632512_C</th><th scope=col>rs7342953_C</th><th scope=col>rs9899728_G</th><th scope=col>rs7506045_C</th><th scope=col>rs2229383_T</th><th scope=col>rs1122608_G</th><th scope=col>rs8103309_T</th><th scope=col>rs55791371_A</th><th scope=col>rs16964543_T</th><th scope=col>rs56131196_G</th></tr>\n",
       "\t<tr><th scope=col>&lt;dbl&gt;</th><th scope=col>&lt;dbl&gt;</th><th scope=col>&lt;dbl&gt;</th><th scope=col>&lt;dbl&gt;</th><th scope=col>&lt;dbl&gt;</th><th scope=col>&lt;dbl&gt;</th><th scope=col>&lt;dbl&gt;</th><th scope=col>&lt;dbl&gt;</th><th scope=col>&lt;dbl&gt;</th><th scope=col>&lt;dbl&gt;</th><th scope=col>⋯</th><th scope=col>&lt;dbl&gt;</th><th scope=col>&lt;dbl&gt;</th><th scope=col>&lt;dbl&gt;</th><th scope=col>&lt;dbl&gt;</th><th scope=col>&lt;dbl&gt;</th><th scope=col>&lt;dbl&gt;</th><th scope=col>&lt;dbl&gt;</th><th scope=col>&lt;dbl&gt;</th><th scope=col>&lt;dbl&gt;</th><th scope=col>&lt;dbl&gt;</th></tr>\n",
       "</thead>\n",
       "<tbody>\n",
       "</tbody>\n",
       "</table>\n"
      ],
      "text/latex": [
       "A tibble: 0 × 109\n",
       "\\begin{tabular}{lllllllllllllllllllll}\n",
       " FID & IID & PAT & MAT & SEX & PHENOTYPE & rs6695915\\_A & rs138364069\\_C & rs3176471\\_A & rs11206510\\_T & ⋯ & rs2632512\\_C & rs7342953\\_C & rs9899728\\_G & rs7506045\\_C & rs2229383\\_T & rs1122608\\_G & rs8103309\\_T & rs55791371\\_A & rs16964543\\_T & rs56131196\\_G\\\\\n",
       " <dbl> & <dbl> & <dbl> & <dbl> & <dbl> & <dbl> & <dbl> & <dbl> & <dbl> & <dbl> & ⋯ & <dbl> & <dbl> & <dbl> & <dbl> & <dbl> & <dbl> & <dbl> & <dbl> & <dbl> & <dbl>\\\\\n",
       "\\hline\n",
       "\\end{tabular}\n"
      ],
      "text/markdown": [
       "\n",
       "A tibble: 0 × 109\n",
       "\n",
       "| FID &lt;dbl&gt; | IID &lt;dbl&gt; | PAT &lt;dbl&gt; | MAT &lt;dbl&gt; | SEX &lt;dbl&gt; | PHENOTYPE &lt;dbl&gt; | rs6695915_A &lt;dbl&gt; | rs138364069_C &lt;dbl&gt; | rs3176471_A &lt;dbl&gt; | rs11206510_T &lt;dbl&gt; | ⋯ ⋯ | rs2632512_C &lt;dbl&gt; | rs7342953_C &lt;dbl&gt; | rs9899728_G &lt;dbl&gt; | rs7506045_C &lt;dbl&gt; | rs2229383_T &lt;dbl&gt; | rs1122608_G &lt;dbl&gt; | rs8103309_T &lt;dbl&gt; | rs55791371_A &lt;dbl&gt; | rs16964543_T &lt;dbl&gt; | rs56131196_G &lt;dbl&gt; |\n",
       "|---|---|---|---|---|---|---|---|---|---|---|---|---|---|---|---|---|---|---|---|---|\n",
       "\n"
      ],
      "text/plain": [
       "     FID IID PAT MAT SEX PHENOTYPE rs6695915_A rs138364069_C rs3176471_A\n",
       "     rs11206510_T ⋯ rs2632512_C rs7342953_C rs9899728_G rs7506045_C rs2229383_T\n",
       "     rs1122608_G rs8103309_T rs55791371_A rs16964543_T rs56131196_G"
      ]
     },
     "metadata": {},
     "output_type": "display_data"
    }
   ],
   "source": [
    "genotypes_df <- read_tsv('../data/genotypes/marker_genotypes.raw', col_types = cols())\n",
    "\n",
    "genotypes_df %>% nrow\n",
    "\n",
    "genotypes_df %>% head(0)"
   ]
  },
  {
   "cell_type": "markdown",
   "id": "b993270f",
   "metadata": {},
   "source": [
    "# Run regressions"
   ]
  },
  {
   "cell_type": "code",
   "execution_count": 5,
   "id": "9db811f8",
   "metadata": {},
   "outputs": [
    {
     "data": {
      "text/html": [
       "237101"
      ],
      "text/latex": [
       "237101"
      ],
      "text/markdown": [
       "237101"
      ],
      "text/plain": [
       "[1] 237101"
      ]
     },
     "metadata": {},
     "output_type": "display_data"
    },
    {
     "name": "stderr",
     "output_type": "stream",
     "text": [
      "Warning message in cbind(parts$left, ellip_h, parts$right, deparse.level = 0L):\n",
      "“number of rows of result is not a multiple of vector length (arg 2)”\n",
      "Warning message in cbind(parts$left, ellip_h, parts$right, deparse.level = 0L):\n",
      "“number of rows of result is not a multiple of vector length (arg 2)”\n",
      "Warning message in cbind(parts$left, ellip_h, parts$right, deparse.level = 0L):\n",
      "“number of rows of result is not a multiple of vector length (arg 2)”\n",
      "Warning message in cbind(parts$left, ellip_h, parts$right, deparse.level = 0L):\n",
      "“number of rows of result is not a multiple of vector length (arg 2)”\n"
     ]
    },
    {
     "data": {
      "text/html": [
       "<table class=\"dataframe\">\n",
       "<caption>A tibble: 0 × 127</caption>\n",
       "<thead>\n",
       "\t<tr><th scope=col>FID</th><th scope=col>IID</th><th scope=col>PAT</th><th scope=col>MAT</th><th scope=col>SEX</th><th scope=col>PHENOTYPE</th><th scope=col>rs6695915_A</th><th scope=col>rs138364069_C</th><th scope=col>rs3176471_A</th><th scope=col>rs11206510_T</th><th scope=col>⋯</th><th scope=col>PC4</th><th scope=col>PC5</th><th scope=col>PC6</th><th scope=col>PC7</th><th scope=col>PC8</th><th scope=col>PC9</th><th scope=col>PC10</th><th scope=col>age_squared</th><th scope=col>age_sex</th><th scope=col>age_squared_sex</th></tr>\n",
       "\t<tr><th scope=col>&lt;dbl&gt;</th><th scope=col>&lt;dbl&gt;</th><th scope=col>&lt;dbl&gt;</th><th scope=col>&lt;dbl&gt;</th><th scope=col>&lt;dbl&gt;</th><th scope=col>&lt;dbl&gt;</th><th scope=col>&lt;dbl&gt;</th><th scope=col>&lt;dbl&gt;</th><th scope=col>&lt;dbl&gt;</th><th scope=col>&lt;dbl&gt;</th><th scope=col>⋯</th><th scope=col>&lt;dbl&gt;</th><th scope=col>&lt;dbl&gt;</th><th scope=col>&lt;dbl&gt;</th><th scope=col>&lt;dbl&gt;</th><th scope=col>&lt;dbl&gt;</th><th scope=col>&lt;dbl&gt;</th><th scope=col>&lt;dbl&gt;</th><th scope=col>&lt;dbl&gt;</th><th scope=col>&lt;dbl&gt;</th><th scope=col>&lt;dbl&gt;</th></tr>\n",
       "</thead>\n",
       "<tbody>\n",
       "</tbody>\n",
       "</table>\n"
      ],
      "text/latex": [
       "A tibble: 0 × 127\n",
       "\\begin{tabular}{lllllllllllllllllllll}\n",
       " FID & IID & PAT & MAT & SEX & PHENOTYPE & rs6695915\\_A & rs138364069\\_C & rs3176471\\_A & rs11206510\\_T & ⋯ & PC4 & PC5 & PC6 & PC7 & PC8 & PC9 & PC10 & age\\_squared & age\\_sex & age\\_squared\\_sex\\\\\n",
       " <dbl> & <dbl> & <dbl> & <dbl> & <dbl> & <dbl> & <dbl> & <dbl> & <dbl> & <dbl> & ⋯ & <dbl> & <dbl> & <dbl> & <dbl> & <dbl> & <dbl> & <dbl> & <dbl> & <dbl> & <dbl>\\\\\n",
       "\\hline\n",
       "\\end{tabular}\n"
      ],
      "text/markdown": [
       "\n",
       "A tibble: 0 × 127\n",
       "\n",
       "| FID &lt;dbl&gt; | IID &lt;dbl&gt; | PAT &lt;dbl&gt; | MAT &lt;dbl&gt; | SEX &lt;dbl&gt; | PHENOTYPE &lt;dbl&gt; | rs6695915_A &lt;dbl&gt; | rs138364069_C &lt;dbl&gt; | rs3176471_A &lt;dbl&gt; | rs11206510_T &lt;dbl&gt; | ⋯ ⋯ | PC4 &lt;dbl&gt; | PC5 &lt;dbl&gt; | PC6 &lt;dbl&gt; | PC7 &lt;dbl&gt; | PC8 &lt;dbl&gt; | PC9 &lt;dbl&gt; | PC10 &lt;dbl&gt; | age_squared &lt;dbl&gt; | age_sex &lt;dbl&gt; | age_squared_sex &lt;dbl&gt; |\n",
       "|---|---|---|---|---|---|---|---|---|---|---|---|---|---|---|---|---|---|---|---|---|\n",
       "\n"
      ],
      "text/plain": [
       "     FID IID PAT MAT SEX PHENOTYPE rs6695915_A rs138364069_C rs3176471_A\n",
       "     rs11206510_T ⋯ PC4 PC5 PC6 PC7 PC8 PC9 PC10 age_squared age_sex\n",
       "     age_squared_sex"
      ]
     },
     "metadata": {},
     "output_type": "display_data"
    }
   ],
   "source": [
    "gwas_data_df <- genotypes_df %>% \n",
    "    inner_join(phenotypes_df, by = c('FID', 'IID')) %>%\n",
    "    inner_join(covar_df, by = c('FID', 'IID'))\n",
    "\n",
    "gwas_data_df %>% nrow\n",
    "\n",
    "gwas_data_df %>% head(0)"
   ]
  },
  {
   "cell_type": "code",
   "execution_count": 6,
   "id": "8afe4554",
   "metadata": {},
   "outputs": [
    {
     "data": {
      "text/html": [
       "103"
      ],
      "text/latex": [
       "103"
      ],
      "text/markdown": [
       "103"
      ],
      "text/plain": [
       "[1] 103"
      ]
     },
     "metadata": {},
     "output_type": "display_data"
    }
   ],
   "source": [
    "snp_ids <- genotypes_df %>% select(-FID, -IID, -PAT, -MAT, -SEX, -PHENOTYPE) %>% colnames\n",
    "\n",
    "snp_ids %>% length"
   ]
  },
  {
   "cell_type": "code",
   "execution_count": 7,
   "id": "892c018e",
   "metadata": {},
   "outputs": [
    {
     "data": {
      "text/html": [
       "<table class=\"dataframe\">\n",
       "<caption>A data.frame: 2 × 7</caption>\n",
       "<thead>\n",
       "\t<tr><th></th><th scope=col>term</th><th scope=col>estimate</th><th scope=col>std.error</th><th scope=col>statistic</th><th scope=col>p.value</th><th scope=col>outcome</th><th scope=col>snp_id</th></tr>\n",
       "\t<tr><th></th><th scope=col>&lt;chr&gt;</th><th scope=col>&lt;dbl&gt;</th><th scope=col>&lt;dbl&gt;</th><th scope=col>&lt;dbl&gt;</th><th scope=col>&lt;dbl&gt;</th><th scope=col>&lt;chr&gt;</th><th scope=col>&lt;chr&gt;</th></tr>\n",
       "</thead>\n",
       "<tbody>\n",
       "\t<tr><th scope=row>1</th><td>(Intercept)</td><td>-10.02454866</td><td>4.83634968</td><td>-2.0727510</td><td>0.03819546</td><td>target</td><td>rs6695915_A</td></tr>\n",
       "\t<tr><th scope=row>2</th><td>rs6695915_A</td><td> -0.02402496</td><td>0.04700061</td><td>-0.5111628</td><td>0.60923706</td><td>target</td><td>rs6695915_A</td></tr>\n",
       "</tbody>\n",
       "</table>\n"
      ],
      "text/latex": [
       "A data.frame: 2 × 7\n",
       "\\begin{tabular}{r|lllllll}\n",
       "  & term & estimate & std.error & statistic & p.value & outcome & snp\\_id\\\\\n",
       "  & <chr> & <dbl> & <dbl> & <dbl> & <dbl> & <chr> & <chr>\\\\\n",
       "\\hline\n",
       "\t1 & (Intercept) & -10.02454866 & 4.83634968 & -2.0727510 & 0.03819546 & target & rs6695915\\_A\\\\\n",
       "\t2 & rs6695915\\_A &  -0.02402496 & 0.04700061 & -0.5111628 & 0.60923706 & target & rs6695915\\_A\\\\\n",
       "\\end{tabular}\n"
      ],
      "text/markdown": [
       "\n",
       "A data.frame: 2 × 7\n",
       "\n",
       "| <!--/--> | term &lt;chr&gt; | estimate &lt;dbl&gt; | std.error &lt;dbl&gt; | statistic &lt;dbl&gt; | p.value &lt;dbl&gt; | outcome &lt;chr&gt; | snp_id &lt;chr&gt; |\n",
       "|---|---|---|---|---|---|---|---|\n",
       "| 1 | (Intercept) | -10.02454866 | 4.83634968 | -2.0727510 | 0.03819546 | target | rs6695915_A |\n",
       "| 2 | rs6695915_A |  -0.02402496 | 0.04700061 | -0.5111628 | 0.60923706 | target | rs6695915_A |\n",
       "\n"
      ],
      "text/plain": [
       "  term        estimate     std.error  statistic  p.value    outcome snp_id     \n",
       "1 (Intercept) -10.02454866 4.83634968 -2.0727510 0.03819546 target  rs6695915_A\n",
       "2 rs6695915_A  -0.02402496 0.04700061 -0.5111628 0.60923706 target  rs6695915_A"
      ]
     },
     "metadata": {},
     "output_type": "display_data"
    }
   ],
   "source": [
    "gwas_results_df <- data.frame()\n",
    "\n",
    "for (outcome in c('target', 'qtphenproxy', 'qtphenproxy_h2')) {\n",
    "    if (outcome == 'target') {\n",
    "        family = binomial\n",
    "    } else {\n",
    "        family = gaussian\n",
    "    }\n",
    "    \n",
    "    for (snp_id in snp_ids) {\n",
    "        reg_form <- paste(outcome, '~', \n",
    "                          paste(snp_id, 'sex', 'age', 'PC1', 'PC2', 'PC3', 'PC4', 'PC5', 'PC6', 'PC7', \n",
    "                                        'PC8', 'PC9', 'PC10', 'age_squared', 'age_sex', 'age_squared_sex', sep='+'))\n",
    "        reg_rows <- glm(reg_form, data = gwas_data_df, family = family) %>% \n",
    "            tidy %>%\n",
    "            mutate(outcome = outcome, snp_id = snp_id)\n",
    "        \n",
    "        gwas_results_df <- bind_rows(gwas_results_df, reg_rows)\n",
    "    }\n",
    "}\n",
    "\n",
    "gwas_results_df %>% write_tsv(\"../data/gwas_results/I63.tsv\")\n",
    "\n",
    "gwas_results_df %>% head(2)"
   ]
  },
  {
   "cell_type": "code",
   "execution_count": 8,
   "id": "579a4228",
   "metadata": {},
   "outputs": [
    {
     "data": {
      "text/html": [
       "<table class=\"dataframe\">\n",
       "<caption>A tibble: 3 × 2</caption>\n",
       "<thead>\n",
       "\t<tr><th scope=col>outcome</th><th scope=col>n_significant</th></tr>\n",
       "\t<tr><th scope=col>&lt;chr&gt;</th><th scope=col>&lt;int&gt;</th></tr>\n",
       "</thead>\n",
       "<tbody>\n",
       "\t<tr><td>qtphenproxy   </td><td> 6</td></tr>\n",
       "\t<tr><td>qtphenproxy_h2</td><td>20</td></tr>\n",
       "\t<tr><td>target        </td><td>19</td></tr>\n",
       "</tbody>\n",
       "</table>\n"
      ],
      "text/latex": [
       "A tibble: 3 × 2\n",
       "\\begin{tabular}{ll}\n",
       " outcome & n\\_significant\\\\\n",
       " <chr> & <int>\\\\\n",
       "\\hline\n",
       "\t qtphenproxy    &  6\\\\\n",
       "\t qtphenproxy\\_h2 & 20\\\\\n",
       "\t target         & 19\\\\\n",
       "\\end{tabular}\n"
      ],
      "text/markdown": [
       "\n",
       "A tibble: 3 × 2\n",
       "\n",
       "| outcome &lt;chr&gt; | n_significant &lt;int&gt; |\n",
       "|---|---|\n",
       "| qtphenproxy    |  6 |\n",
       "| qtphenproxy_h2 | 20 |\n",
       "| target         | 19 |\n",
       "\n"
      ],
      "text/plain": [
       "  outcome        n_significant\n",
       "1 qtphenproxy     6           \n",
       "2 qtphenproxy_h2 20           \n",
       "3 target         19           "
      ]
     },
     "metadata": {},
     "output_type": "display_data"
    }
   ],
   "source": [
    "gwas_results_df %>%\n",
    "    filter(str_detect(term, 'rs')) %>%\n",
    "    mutate(significant = p.value < 0.05) %>%\n",
    "    group_by(outcome) %>%\n",
    "    summarize(n_significant = sum(significant), .groups = 'drop')"
   ]
  }
 ],
 "metadata": {
  "kernelspec": {
   "display_name": "R [conda env:qtp] *",
   "language": "R",
   "name": "conda-env-qtp-r"
  },
  "language_info": {
   "codemirror_mode": "r",
   "file_extension": ".r",
   "mimetype": "text/x-r-source",
   "name": "R",
   "pygments_lexer": "r",
   "version": "4.1.0"
  }
 },
 "nbformat": 4,
 "nbformat_minor": 5
}
