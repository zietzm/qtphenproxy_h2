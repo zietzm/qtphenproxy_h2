{
 "cells": [
  {
   "cell_type": "code",
   "execution_count": 1,
   "id": "67a51ea8",
   "metadata": {},
   "outputs": [],
   "source": [
    "import pathlib\n",
    "import urllib\n",
    "\n",
    "import pandas as pd\n",
    "from plotnine import *"
   ]
  },
  {
   "cell_type": "markdown",
   "id": "59a551f5",
   "metadata": {},
   "source": [
    "# Load all ICD-10 UKBB phenotypes"
   ]
  },
  {
   "cell_type": "code",
   "execution_count": 2,
   "id": "40028b7d",
   "metadata": {},
   "outputs": [
    {
     "data": {
      "text/html": [
       "<div>\n",
       "<style scoped>\n",
       "    .dataframe tbody tr th:only-of-type {\n",
       "        vertical-align: middle;\n",
       "    }\n",
       "\n",
       "    .dataframe tbody tr th {\n",
       "        vertical-align: top;\n",
       "    }\n",
       "\n",
       "    .dataframe thead th {\n",
       "        text-align: right;\n",
       "    }\n",
       "</style>\n",
       "<table border=\"1\" class=\"dataframe\">\n",
       "  <thead>\n",
       "    <tr style=\"text-align: right;\">\n",
       "      <th></th>\n",
       "      <th>url</th>\n",
       "    </tr>\n",
       "  </thead>\n",
       "  <tbody>\n",
       "    <tr>\n",
       "      <th>0</th>\n",
       "      <td>https://broad-ukb-sumstats-us-east-1.s3.amazon...</td>\n",
       "    </tr>\n",
       "    <tr>\n",
       "      <th>1</th>\n",
       "      <td>https://broad-ukb-sumstats-us-east-1.s3.amazon...</td>\n",
       "    </tr>\n",
       "  </tbody>\n",
       "</table>\n",
       "</div>"
      ],
      "text/plain": [
       "                                                 url\n",
       "0  https://broad-ukb-sumstats-us-east-1.s3.amazon...\n",
       "1  https://broad-ukb-sumstats-us-east-1.s3.amazon..."
      ]
     },
     "execution_count": 2,
     "metadata": {},
     "output_type": "execute_result"
    }
   ],
   "source": [
    "phenotype_codes_df = pd.read_csv('../scripts/neale_aws_files.txt', header=None, names=['url'])\n",
    "\n",
    "phenotype_codes_df.head(2)"
   ]
  },
  {
   "cell_type": "code",
   "execution_count": 3,
   "id": "9f3a9a2b",
   "metadata": {},
   "outputs": [
    {
     "data": {
      "text/html": [
       "<div>\n",
       "<style scoped>\n",
       "    .dataframe tbody tr th:only-of-type {\n",
       "        vertical-align: middle;\n",
       "    }\n",
       "\n",
       "    .dataframe tbody tr th {\n",
       "        vertical-align: top;\n",
       "    }\n",
       "\n",
       "    .dataframe thead th {\n",
       "        text-align: right;\n",
       "    }\n",
       "</style>\n",
       "<table border=\"1\" class=\"dataframe\">\n",
       "  <thead>\n",
       "    <tr style=\"text-align: right;\">\n",
       "      <th></th>\n",
       "      <th>code</th>\n",
       "    </tr>\n",
       "  </thead>\n",
       "  <tbody>\n",
       "    <tr>\n",
       "      <th>0</th>\n",
       "      <td>A04</td>\n",
       "    </tr>\n",
       "    <tr>\n",
       "      <th>1</th>\n",
       "      <td>A08</td>\n",
       "    </tr>\n",
       "  </tbody>\n",
       "</table>\n",
       "</div>"
      ],
      "text/plain": [
       "  code\n",
       "0  A04\n",
       "1  A08"
      ]
     },
     "execution_count": 3,
     "metadata": {},
     "output_type": "execute_result"
    }
   ],
   "source": [
    "codes_df = (\n",
    "    phenotype_codes_df\n",
    "    .assign(\n",
    "        file_name=lambda df: df['url'].apply(lambda x: pathlib.Path(urllib.parse.urlparse(x).path).name),\n",
    "        code=lambda df: df['file_name'].apply(lambda x: x.split('.')[0])\n",
    "    )\n",
    "    .drop(columns=['url', 'file_name'])\n",
    ")\n",
    "\n",
    "codes_df.to_csv('../data/phenotypes_meta/all_ukbb_icd_codes.csv', index=False, header=False)\n",
    "\n",
    "codes_df.head(2)"
   ]
  },
  {
   "cell_type": "markdown",
   "id": "d7f04941",
   "metadata": {},
   "source": [
    "# Apply heritability filters\n",
    "\n",
    "1. Heritability estimate must have confidence > \"none\"\n",
    "2. Phenotype must be \"primary\""
   ]
  },
  {
   "cell_type": "code",
   "execution_count": 4,
   "id": "c8a5b548",
   "metadata": {},
   "outputs": [
    {
     "data": {
      "text/html": [
       "<div>\n",
       "<style scoped>\n",
       "    .dataframe tbody tr th:only-of-type {\n",
       "        vertical-align: middle;\n",
       "    }\n",
       "\n",
       "    .dataframe tbody tr th {\n",
       "        vertical-align: top;\n",
       "    }\n",
       "\n",
       "    .dataframe thead th {\n",
       "        text-align: right;\n",
       "    }\n",
       "</style>\n",
       "<table border=\"1\" class=\"dataframe\">\n",
       "  <thead>\n",
       "    <tr style=\"text-align: right;\">\n",
       "      <th></th>\n",
       "      <th>phenotype</th>\n",
       "      <th>sex</th>\n",
       "      <th>n_missing</th>\n",
       "      <th>n</th>\n",
       "      <th>n_cases</th>\n",
       "      <th>n_controls</th>\n",
       "      <th>h2_liability</th>\n",
       "      <th>h2_liability_se</th>\n",
       "      <th>h2_z</th>\n",
       "      <th>h2_p</th>\n",
       "      <th>phen_stem</th>\n",
       "      <th>isBinary</th>\n",
       "      <th>Neff</th>\n",
       "      <th>prevalence</th>\n",
       "      <th>keep</th>\n",
       "      <th>notes</th>\n",
       "      <th>confidence</th>\n",
       "      <th>isNotPrimary</th>\n",
       "      <th>conf_simple</th>\n",
       "    </tr>\n",
       "  </thead>\n",
       "  <tbody>\n",
       "    <tr>\n",
       "      <th>0</th>\n",
       "      <td>100001_irnt</td>\n",
       "      <td>both_sexes</td>\n",
       "      <td>309741</td>\n",
       "      <td>51453</td>\n",
       "      <td>NaN</td>\n",
       "      <td>NaN</td>\n",
       "      <td>0.068818</td>\n",
       "      <td>0.016857</td>\n",
       "      <td>4.082528</td>\n",
       "      <td>0.000022</td>\n",
       "      <td>100001</td>\n",
       "      <td>False</td>\n",
       "      <td>51453.0</td>\n",
       "      <td>NaN</td>\n",
       "      <td>True</td>\n",
       "      <td>NaN</td>\n",
       "      <td>high</td>\n",
       "      <td>False</td>\n",
       "      <td>high</td>\n",
       "    </tr>\n",
       "    <tr>\n",
       "      <th>1</th>\n",
       "      <td>100001_raw</td>\n",
       "      <td>both_sexes</td>\n",
       "      <td>309741</td>\n",
       "      <td>51453</td>\n",
       "      <td>NaN</td>\n",
       "      <td>NaN</td>\n",
       "      <td>0.069468</td>\n",
       "      <td>0.016275</td>\n",
       "      <td>4.268457</td>\n",
       "      <td>0.000010</td>\n",
       "      <td>100001</td>\n",
       "      <td>False</td>\n",
       "      <td>51453.0</td>\n",
       "      <td>NaN</td>\n",
       "      <td>False</td>\n",
       "      <td>drop_cont_raw;isNotPrimary;</td>\n",
       "      <td>NA_(not_primary)</td>\n",
       "      <td>True</td>\n",
       "      <td>NaN</td>\n",
       "    </tr>\n",
       "  </tbody>\n",
       "</table>\n",
       "</div>"
      ],
      "text/plain": [
       "     phenotype         sex  n_missing      n  n_cases  n_controls  \\\n",
       "0  100001_irnt  both_sexes     309741  51453      NaN         NaN   \n",
       "1   100001_raw  both_sexes     309741  51453      NaN         NaN   \n",
       "\n",
       "   h2_liability  h2_liability_se      h2_z      h2_p phen_stem  isBinary  \\\n",
       "0      0.068818         0.016857  4.082528  0.000022    100001     False   \n",
       "1      0.069468         0.016275  4.268457  0.000010    100001     False   \n",
       "\n",
       "      Neff  prevalence   keep                        notes        confidence  \\\n",
       "0  51453.0         NaN   True                          NaN              high   \n",
       "1  51453.0         NaN  False  drop_cont_raw;isNotPrimary;  NA_(not_primary)   \n",
       "\n",
       "   isNotPrimary conf_simple  \n",
       "0         False        high  \n",
       "1          True         NaN  "
      ]
     },
     "execution_count": 4,
     "metadata": {},
     "output_type": "execute_result"
    }
   ],
   "source": [
    "heritability_df = pd.read_csv(\n",
    "    '../data/neale_heritability_estimates/ukb31063_h2_all.02Oct2019.tsv.gz',\n",
    "    usecols=['phenotype', 'sex', 'n_missing', 'n', 'n_cases', 'n_controls', 'h2_liability', \n",
    "             'h2_liability_se', 'h2_z', 'h2_p', 'isBinary', 'phen_stem', 'Neff', 'prevalence', \n",
    "             'keep', 'notes', 'confidence', 'conf_simple', 'isNotPrimary'], sep='\\t', compression='gzip'\n",
    ")\n",
    "\n",
    "heritability_df.head(2)"
   ]
  },
  {
   "cell_type": "code",
   "execution_count": 5,
   "id": "ef189886",
   "metadata": {},
   "outputs": [
    {
     "data": {
      "text/html": [
       "<div>\n",
       "<style scoped>\n",
       "    .dataframe tbody tr th:only-of-type {\n",
       "        vertical-align: middle;\n",
       "    }\n",
       "\n",
       "    .dataframe tbody tr th {\n",
       "        vertical-align: top;\n",
       "    }\n",
       "\n",
       "    .dataframe thead th {\n",
       "        text-align: right;\n",
       "    }\n",
       "</style>\n",
       "<table border=\"1\" class=\"dataframe\">\n",
       "  <thead>\n",
       "    <tr style=\"text-align: right;\">\n",
       "      <th></th>\n",
       "      <th>phenotype</th>\n",
       "      <th>sex</th>\n",
       "      <th>n_missing</th>\n",
       "      <th>n</th>\n",
       "      <th>n_cases</th>\n",
       "      <th>n_controls</th>\n",
       "      <th>h2_liability</th>\n",
       "      <th>h2_liability_se</th>\n",
       "      <th>h2_z</th>\n",
       "      <th>h2_p</th>\n",
       "      <th>phen_stem</th>\n",
       "      <th>isBinary</th>\n",
       "      <th>Neff</th>\n",
       "      <th>prevalence</th>\n",
       "      <th>keep</th>\n",
       "      <th>notes</th>\n",
       "      <th>confidence</th>\n",
       "      <th>isNotPrimary</th>\n",
       "      <th>conf_simple</th>\n",
       "    </tr>\n",
       "  </thead>\n",
       "  <tbody>\n",
       "    <tr>\n",
       "      <th>6</th>\n",
       "      <td>A09</td>\n",
       "      <td>both_sexes</td>\n",
       "      <td>0</td>\n",
       "      <td>361194</td>\n",
       "      <td>2161.0</td>\n",
       "      <td>359033.0</td>\n",
       "      <td>-0.029687</td>\n",
       "      <td>0.043285</td>\n",
       "      <td>-0.685859</td>\n",
       "      <td>0.753599</td>\n",
       "      <td>A09</td>\n",
       "      <td>True</td>\n",
       "      <td>8592.28</td>\n",
       "      <td>0.005983</td>\n",
       "      <td>True</td>\n",
       "      <td>isLowNeff;</td>\n",
       "      <td>low</td>\n",
       "      <td>False</td>\n",
       "      <td>low</td>\n",
       "    </tr>\n",
       "    <tr>\n",
       "      <th>36</th>\n",
       "      <td>C18</td>\n",
       "      <td>both_sexes</td>\n",
       "      <td>0</td>\n",
       "      <td>361194</td>\n",
       "      <td>2226.0</td>\n",
       "      <td>358968.0</td>\n",
       "      <td>0.120329</td>\n",
       "      <td>0.042461</td>\n",
       "      <td>2.833887</td>\n",
       "      <td>0.002299</td>\n",
       "      <td>C18</td>\n",
       "      <td>True</td>\n",
       "      <td>8849.13</td>\n",
       "      <td>0.006163</td>\n",
       "      <td>True</td>\n",
       "      <td>isLowNeff;</td>\n",
       "      <td>low</td>\n",
       "      <td>False</td>\n",
       "      <td>low</td>\n",
       "    </tr>\n",
       "  </tbody>\n",
       "</table>\n",
       "</div>"
      ],
      "text/plain": [
       "   phenotype         sex  n_missing       n  n_cases  n_controls  \\\n",
       "6        A09  both_sexes          0  361194   2161.0    359033.0   \n",
       "36       C18  both_sexes          0  361194   2226.0    358968.0   \n",
       "\n",
       "    h2_liability  h2_liability_se      h2_z      h2_p phen_stem  isBinary  \\\n",
       "6      -0.029687         0.043285 -0.685859  0.753599       A09      True   \n",
       "36      0.120329         0.042461  2.833887  0.002299       C18      True   \n",
       "\n",
       "       Neff  prevalence  keep       notes confidence  isNotPrimary conf_simple  \n",
       "6   8592.28    0.005983  True  isLowNeff;        low         False         low  \n",
       "36  8849.13    0.006163  True  isLowNeff;        low         False         low  "
      ]
     },
     "execution_count": 5,
     "metadata": {},
     "output_type": "execute_result"
    }
   ],
   "source": [
    "icd_heritability_df = (\n",
    "    heritability_df\n",
    "    .merge(codes_df, left_on='phenotype', right_on='code')\n",
    "    .query('(sex == \"both_sexes\") & (confidence != \"none\") & (isNotPrimary == False)')\n",
    "    .drop(columns=['code'])\n",
    ")\n",
    "\n",
    "icd_heritability_df.head(2)"
   ]
  },
  {
   "cell_type": "markdown",
   "id": "d78df5cc",
   "metadata": {},
   "source": [
    "# Apply genetic covariance filters\n",
    "\n",
    "1. Only phenotypes that have all genetic covariances not NA."
   ]
  },
  {
   "cell_type": "code",
   "execution_count": 6,
   "id": "77e40161",
   "metadata": {
    "scrolled": true
   },
   "outputs": [
    {
     "data": {
      "text/html": [
       "<div>\n",
       "<style scoped>\n",
       "    .dataframe tbody tr th:only-of-type {\n",
       "        vertical-align: middle;\n",
       "    }\n",
       "\n",
       "    .dataframe tbody tr th {\n",
       "        vertical-align: top;\n",
       "    }\n",
       "\n",
       "    .dataframe thead th {\n",
       "        text-align: right;\n",
       "    }\n",
       "</style>\n",
       "<table border=\"1\" class=\"dataframe\">\n",
       "  <thead>\n",
       "    <tr style=\"text-align: right;\">\n",
       "      <th></th>\n",
       "      <th>p1</th>\n",
       "      <th>p2</th>\n",
       "      <th>rg</th>\n",
       "      <th>se</th>\n",
       "      <th>p</th>\n",
       "    </tr>\n",
       "  </thead>\n",
       "  <tbody>\n",
       "    <tr>\n",
       "      <th>0</th>\n",
       "      <td>../../results/UKbb/ldsc-additive-export/sumsta...</td>\n",
       "      <td>../../results/UKbb/ldsc-additive-export/sumsta...</td>\n",
       "      <td>0.9998</td>\n",
       "      <td>0.002135</td>\n",
       "      <td>0.000000e+00</td>\n",
       "    </tr>\n",
       "    <tr>\n",
       "      <th>1</th>\n",
       "      <td>../../results/UKbb/ldsc-additive-export/sumsta...</td>\n",
       "      <td>../../results/UKbb/ldsc-additive-export/sumsta...</td>\n",
       "      <td>0.6925</td>\n",
       "      <td>0.091160</td>\n",
       "      <td>3.041000e-14</td>\n",
       "    </tr>\n",
       "  </tbody>\n",
       "</table>\n",
       "</div>"
      ],
      "text/plain": [
       "                                                  p1  \\\n",
       "0  ../../results/UKbb/ldsc-additive-export/sumsta...   \n",
       "1  ../../results/UKbb/ldsc-additive-export/sumsta...   \n",
       "\n",
       "                                                  p2      rg        se  \\\n",
       "0  ../../results/UKbb/ldsc-additive-export/sumsta...  0.9998  0.002135   \n",
       "1  ../../results/UKbb/ldsc-additive-export/sumsta...  0.6925  0.091160   \n",
       "\n",
       "              p  \n",
       "0  0.000000e+00  \n",
       "1  3.041000e-14  "
      ]
     },
     "execution_count": 6,
     "metadata": {},
     "output_type": "execute_result"
    }
   ],
   "source": [
    "ldsc_df = pd.read_csv('../data/neale_heritability_estimates/geno_correlation.r2.gz', \n",
    "                      compression='gzip', sep='\\s+', usecols=['p1', 'p2', 'rg', 'se', 'p'])\n",
    "\n",
    "ldsc_df.head(2)"
   ]
  },
  {
   "cell_type": "code",
   "execution_count": 7,
   "id": "3005dafb",
   "metadata": {},
   "outputs": [
    {
     "data": {
      "text/html": [
       "<div>\n",
       "<style scoped>\n",
       "    .dataframe tbody tr th:only-of-type {\n",
       "        vertical-align: middle;\n",
       "    }\n",
       "\n",
       "    .dataframe tbody tr th {\n",
       "        vertical-align: top;\n",
       "    }\n",
       "\n",
       "    .dataframe thead th {\n",
       "        text-align: right;\n",
       "    }\n",
       "</style>\n",
       "<table border=\"1\" class=\"dataframe\">\n",
       "  <thead>\n",
       "    <tr style=\"text-align: right;\">\n",
       "      <th></th>\n",
       "      <th>p1</th>\n",
       "      <th>p2</th>\n",
       "      <th>rg</th>\n",
       "      <th>se</th>\n",
       "      <th>p</th>\n",
       "      <th>p1_code</th>\n",
       "      <th>p2_code</th>\n",
       "    </tr>\n",
       "  </thead>\n",
       "  <tbody>\n",
       "    <tr>\n",
       "      <th>0</th>\n",
       "      <td>100001_irnt.ldsc.imputed_v3.both_sexes.tsv.bgz</td>\n",
       "      <td>100001_raw.ldsc.imputed_v3.both_sexes.tsv.bgz</td>\n",
       "      <td>0.9998</td>\n",
       "      <td>0.002135</td>\n",
       "      <td>0.000000e+00</td>\n",
       "      <td>100001_irnt</td>\n",
       "      <td>100001_raw</td>\n",
       "    </tr>\n",
       "    <tr>\n",
       "      <th>1</th>\n",
       "      <td>100001_irnt.ldsc.imputed_v3.both_sexes.tsv.bgz</td>\n",
       "      <td>100002_irnt.ldsc.imputed_v3.both_sexes.tsv.bgz</td>\n",
       "      <td>0.6925</td>\n",
       "      <td>0.091160</td>\n",
       "      <td>3.041000e-14</td>\n",
       "      <td>100001_irnt</td>\n",
       "      <td>100002_irnt</td>\n",
       "    </tr>\n",
       "  </tbody>\n",
       "</table>\n",
       "</div>"
      ],
      "text/plain": [
       "                                               p1  \\\n",
       "0  100001_irnt.ldsc.imputed_v3.both_sexes.tsv.bgz   \n",
       "1  100001_irnt.ldsc.imputed_v3.both_sexes.tsv.bgz   \n",
       "\n",
       "                                               p2      rg        se  \\\n",
       "0   100001_raw.ldsc.imputed_v3.both_sexes.tsv.bgz  0.9998  0.002135   \n",
       "1  100002_irnt.ldsc.imputed_v3.both_sexes.tsv.bgz  0.6925  0.091160   \n",
       "\n",
       "              p      p1_code      p2_code  \n",
       "0  0.000000e+00  100001_irnt   100001_raw  \n",
       "1  3.041000e-14  100001_irnt  100002_irnt  "
      ]
     },
     "execution_count": 7,
     "metadata": {},
     "output_type": "execute_result"
    }
   ],
   "source": [
    "ldsc_processed_df = (\n",
    "    ldsc_df\n",
    "    .assign(\n",
    "        p1=lambda df: df['p1'].apply(lambda x: pathlib.Path(x).name),\n",
    "        p1_parts=lambda df: df['p1'].apply(lambda x: x.split('.')),\n",
    "        p1_code=lambda df: df['p1_parts'].apply(lambda l: l[0]),\n",
    "        p1_method=lambda df: df['p1_parts'].apply(lambda l: l[1]),\n",
    "        p1_data=lambda df: df['p1_parts'].apply(lambda l: l[2]),\n",
    "        p1_sex=lambda df: df['p1_parts'].apply(lambda l: l[3]),\n",
    "        \n",
    "        p2=lambda df: df['p2'].apply(lambda x: pathlib.Path(x).name),\n",
    "        p2_parts=lambda df: df['p2'].apply(lambda x: x.split('.')),\n",
    "        p2_code=lambda df: df['p2_parts'].apply(lambda l: l[0]),\n",
    "        p2_method=lambda df: df['p2_parts'].apply(lambda l: l[1]),\n",
    "        p2_data=lambda df: df['p2_parts'].apply(lambda l: l[2]),\n",
    "        p2_sex=lambda df: df['p2_parts'].apply(lambda l: l[3]),\n",
    "    )\n",
    "    .query('(p1_method == \"ldsc\") & (p1_data == \"imputed_v3\") & (p1_sex == \"both_sexes\") & '\n",
    "           '(p2_method == \"ldsc\") & (p2_data == \"imputed_v3\") & (p2_sex == \"both_sexes\")')\n",
    "    .drop(columns=['p1_parts', 'p1_method', 'p1_data', 'p1_sex', \n",
    "                   'p2_parts', 'p2_method', 'p2_data', 'p2_sex'])\n",
    ")\n",
    "\n",
    "ldsc_processed_df.head(2)"
   ]
  },
  {
   "cell_type": "code",
   "execution_count": 15,
   "id": "9126318d",
   "metadata": {},
   "outputs": [
    {
     "data": {
      "image/png": "[encoded data removed]",
      "text/plain": [
       "<Figure size 640x480 with 1 Axes>"
      ]
     },
     "metadata": {},
     "output_type": "display_data"
    },
    {
     "data": {
      "text/plain": [
       "<ggplot: (8756498816377)>"
      ]
     },
     "execution_count": 15,
     "metadata": {},
     "output_type": "execute_result"
    }
   ],
   "source": [
    "plot_df = (\n",
    "    ldsc_processed_df\n",
    "    .merge(icd_heritability_df['phenotype'], left_on='p1_code', right_on='phenotype')\n",
    "    .merge(icd_heritability_df['phenotype'], left_on='p2_code', right_on='phenotype')\n",
    "    .drop(columns=['phenotype_x', 'phenotype_y'])\n",
    "    .assign(fill=lambda df: df['rg'].isna())\n",
    ")\n",
    "\n",
    "(\n",
    "    ggplot(plot_df, aes(x='p1_code', y='p2_code', fill='fill')) +\n",
    "    geom_tile() +\n",
    "    theme(axis_text = element_blank()) +\n",
    "    xlab('Phenotype 1') +\n",
    "    ylab('Phenotype 2') +\n",
    "    scale_fill_discrete(name='Missing')\n",
    ")"
   ]
  },
  {
   "cell_type": "code",
   "execution_count": 16,
   "id": "a1df8967",
   "metadata": {},
   "outputs": [
    {
     "data": {
      "image/png": "[encoded data removed]",
      "text/plain": [
       "<Figure size 640x480 with 1 Axes>"
      ]
     },
     "metadata": {},
     "output_type": "display_data"
    },
    {
     "data": {
      "text/plain": [
       "<ggplot: (8755827666966)>"
      ]
     },
     "execution_count": 16,
     "metadata": {},
     "output_type": "execute_result"
    }
   ],
   "source": [
    "plot_df = (\n",
    "    ldsc_processed_df\n",
    "    .merge(icd_heritability_df['phenotype'], left_on='p1_code', right_on='phenotype')\n",
    "    .merge(icd_heritability_df['phenotype'], left_on='p2_code', right_on='phenotype')\n",
    "    .drop(columns=['phenotype_x', 'phenotype_y'])\n",
    "    .dropna()\n",
    "    .assign(fill=lambda df: df['rg'].isna())\n",
    ")\n",
    "\n",
    "(\n",
    "    ggplot(plot_df, aes(x='p1_code', y='p2_code', fill='fill')) +\n",
    "    geom_tile() +\n",
    "    theme(axis_text = element_blank()) +\n",
    "    xlab('Phenotype 1') +\n",
    "    ylab('Phenotype 2') +\n",
    "    scale_fill_discrete(name='Missing')\n",
    ")"
   ]
  },
  {
   "cell_type": "markdown",
   "id": "7e62ea21",
   "metadata": {},
   "source": [
    "# Final phenotype list"
   ]
  },
  {
   "cell_type": "code",
   "execution_count": 13,
   "id": "fdbb80b3",
   "metadata": {},
   "outputs": [
    {
     "name": "stdout",
     "output_type": "stream",
     "text": [
      "142\n"
     ]
    },
    {
     "data": {
      "text/plain": [
       "['A09', 'C18', 'C34', 'C43']"
      ]
     },
     "execution_count": 13,
     "metadata": {},
     "output_type": "execute_result"
    }
   ],
   "source": [
    "phenotypes_to_use = sorted(set(\n",
    "    ldsc_processed_df\n",
    "    .merge(icd_heritability_df['phenotype'], left_on='p1_code', right_on='phenotype')\n",
    "    .merge(icd_heritability_df['phenotype'], left_on='p2_code', right_on='phenotype')\n",
    "    .dropna()\n",
    "    .loc[:, ['phenotype_x', 'phenotype_y']]\n",
    "    .values\n",
    "    .flatten()\n",
    "))\n",
    "\n",
    "print(len(phenotypes_to_use))\n",
    "\n",
    "print(phenotypes_to_use[:4])\n",
    "\n",
    "with open('../data/phenotypes_meta/chosen_icd_codes.csv', 'w') as f:\n",
    "    f.writelines([p + '\\n' for p in phenotypes_to_use])"
   ]
  },
  {
   "cell_type": "code",
   "execution_count": 25,
   "id": "1717910e",
   "metadata": {},
   "outputs": [
    {
     "data": {
      "text/html": [
       "<div>\n",
       "<style scoped>\n",
       "    .dataframe tbody tr th:only-of-type {\n",
       "        vertical-align: middle;\n",
       "    }\n",
       "\n",
       "    .dataframe tbody tr th {\n",
       "        vertical-align: top;\n",
       "    }\n",
       "\n",
       "    .dataframe thead th {\n",
       "        text-align: right;\n",
       "    }\n",
       "</style>\n",
       "<table border=\"1\" class=\"dataframe\">\n",
       "  <thead>\n",
       "    <tr style=\"text-align: right;\">\n",
       "      <th></th>\n",
       "      <th>p1</th>\n",
       "      <th>p2</th>\n",
       "      <th>rg</th>\n",
       "      <th>se</th>\n",
       "      <th>p</th>\n",
       "    </tr>\n",
       "  </thead>\n",
       "  <tbody>\n",
       "    <tr>\n",
       "      <th>0</th>\n",
       "      <td>A09</td>\n",
       "      <td>C18</td>\n",
       "      <td>-1.01300</td>\n",
       "      <td>1.0920</td>\n",
       "      <td>0.3535</td>\n",
       "    </tr>\n",
       "    <tr>\n",
       "      <th>1</th>\n",
       "      <td>A09</td>\n",
       "      <td>C34</td>\n",
       "      <td>-0.07082</td>\n",
       "      <td>0.6842</td>\n",
       "      <td>0.9176</td>\n",
       "    </tr>\n",
       "  </tbody>\n",
       "</table>\n",
       "</div>"
      ],
      "text/plain": [
       "    p1   p2       rg      se       p\n",
       "0  A09  C18 -1.01300  1.0920  0.3535\n",
       "1  A09  C34 -0.07082  0.6842  0.9176"
      ]
     },
     "execution_count": 25,
     "metadata": {},
     "output_type": "execute_result"
    }
   ],
   "source": [
    "p = set(phenotypes_to_use)\n",
    "\n",
    "relevant_genetic_correlation_df = (\n",
    "    ldsc_processed_df\n",
    "    .loc[:, ['p1_code', 'p2_code', 'rg', 'se', 'p']]\n",
    "    .loc[lambda df: df['p1_code'].apply(lambda x: x in p)]\n",
    "    .loc[lambda df: df['p2_code'].apply(lambda x: x in p)]\n",
    "    .reset_index(drop=True)\n",
    "    .rename(columns={'p1_code': 'p1', 'p2_code': 'p2'})\n",
    ")\n",
    "\n",
    "relevant_genetic_correlation_df.to_csv('../data/phenotypes_meta/genetic_correlation.tsv', sep='\\t', index=False)\n",
    "\n",
    "relevant_genetic_correlation_df.head(2)"
   ]
  }
 ],
 "metadata": {
  "kernelspec": {
   "display_name": "Python [conda env:qtp] *",
   "language": "python",
   "name": "conda-env-qtp-py"
  },
  "language_info": {
   "codemirror_mode": {
    "name": "ipython",
    "version": 3
   },
   "file_extension": ".py",
   "mimetype": "text/x-python",
   "name": "python",
   "nbconvert_exporter": "python",
   "pygments_lexer": "ipython3",
   "version": "3.9.5"
  }
 },
 "nbformat": 4,
 "nbformat_minor": 5
}
